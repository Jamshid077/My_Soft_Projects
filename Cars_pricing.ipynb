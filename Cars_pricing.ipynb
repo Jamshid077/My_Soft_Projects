{
  "cells": [
    {
      "cell_type": "code",
      "execution_count": 36,
      "metadata": {
        "id": "5P0n6xLYIrhp"
      },
      "outputs": [],
      "source": [
        "import pandas as pd\n",
        "import numpy as np\n",
        "import matplotlib.pyplot as plt\n",
        "import seaborn as sns\n",
        "\n",
        "from sklearn.preprocessing import StandardScaler\n",
        "from sklearn.model_selection import train_test_split\n",
        "from sklearn.linear_model  import LinearRegression\n",
        "\n",
        "from sklearn.linear_model import LogisticRegression\n",
        "from sklearn.tree import DecisionTreeClassifier, plot_tree\n",
        "from sklearn.ensemble import RandomForestClassifier\n",
        "from sklearn.metrics import mean_absolute_error,mean_squared_error\n",
        "from sklearn.svm import SVC\n",
        "from xgboost import XGBClassifier\n",
        "\n",
        "from sklearn.pipeline import Pipeline\n",
        "from sklearn import metrics "
      ]
    },
    {
      "cell_type": "code",
      "execution_count": 3,
      "metadata": {
        "colab": {
          "base_uri": "https://localhost:8080/",
          "height": 423
        },
        "id": "QE7Jfd3qJdcL",
        "outputId": "a2342142-ee67-46c2-9c90-354991636d44"
      },
      "outputs": [
        {
          "data": {
            "text/html": [
              "\n",
              "  <div id=\"df-bea4168f-b570-493e-ae6b-b51b561eadcf\">\n",
              "    <div class=\"colab-df-container\">\n",
              "      <div>\n",
              "<style scoped>\n",
              "    .dataframe tbody tr th:only-of-type {\n",
              "        vertical-align: middle;\n",
              "    }\n",
              "\n",
              "    .dataframe tbody tr th {\n",
              "        vertical-align: top;\n",
              "    }\n",
              "\n",
              "    .dataframe thead th {\n",
              "        text-align: right;\n",
              "    }\n",
              "</style>\n",
              "<table border=\"1\" class=\"dataframe\">\n",
              "  <thead>\n",
              "    <tr style=\"text-align: right;\">\n",
              "      <th></th>\n",
              "      <th>Name of car</th>\n",
              "      <th>Company name</th>\n",
              "      <th>Year</th>\n",
              "      <th>Price</th>\n",
              "      <th>Kms driven</th>\n",
              "      <th>Fuel_type</th>\n",
              "    </tr>\n",
              "  </thead>\n",
              "  <tbody>\n",
              "    <tr>\n",
              "      <th>0</th>\n",
              "      <td>Hyundai Santro Xing XO eRLX Euro III</td>\n",
              "      <td>Hyundai</td>\n",
              "      <td>2007</td>\n",
              "      <td>80,000</td>\n",
              "      <td>45,000</td>\n",
              "      <td>Petrol</td>\n",
              "    </tr>\n",
              "    <tr>\n",
              "      <th>1</th>\n",
              "      <td>Mahindra Jeep CL550 MDI</td>\n",
              "      <td>Mahindra</td>\n",
              "      <td>2006</td>\n",
              "      <td>4,25,000</td>\n",
              "      <td>40</td>\n",
              "      <td>Diesel</td>\n",
              "    </tr>\n",
              "    <tr>\n",
              "      <th>2</th>\n",
              "      <td>Maruti Suzuki Alto 800 Vxi</td>\n",
              "      <td>Maruti</td>\n",
              "      <td>2018</td>\n",
              "      <td>Ask For Price</td>\n",
              "      <td>22,000 kms</td>\n",
              "      <td>Petrol</td>\n",
              "    </tr>\n",
              "    <tr>\n",
              "      <th>3</th>\n",
              "      <td>Hyundai Grand i10 Magna 1.2 Kappa VTVT</td>\n",
              "      <td>Hyundai</td>\n",
              "      <td>2014</td>\n",
              "      <td>3,25,000</td>\n",
              "      <td>28,000</td>\n",
              "      <td>Petrol</td>\n",
              "    </tr>\n",
              "    <tr>\n",
              "      <th>4</th>\n",
              "      <td>Ford EcoSport Titanium 1.5L TDCi</td>\n",
              "      <td>Ford</td>\n",
              "      <td>2014</td>\n",
              "      <td>5,75,000</td>\n",
              "      <td>36,000</td>\n",
              "      <td>Diesel</td>\n",
              "    </tr>\n",
              "    <tr>\n",
              "      <th>...</th>\n",
              "      <td>...</td>\n",
              "      <td>...</td>\n",
              "      <td>...</td>\n",
              "      <td>...</td>\n",
              "      <td>...</td>\n",
              "      <td>...</td>\n",
              "    </tr>\n",
              "    <tr>\n",
              "      <th>887</th>\n",
              "      <td>Ta</td>\n",
              "      <td>Tara</td>\n",
              "      <td>zest</td>\n",
              "      <td>3,10,000</td>\n",
              "      <td>NaN</td>\n",
              "      <td>NaN</td>\n",
              "    </tr>\n",
              "    <tr>\n",
              "      <th>888</th>\n",
              "      <td>Tata Zest XM Diesel</td>\n",
              "      <td>Tata</td>\n",
              "      <td>2018</td>\n",
              "      <td>2,60,000</td>\n",
              "      <td>27,000</td>\n",
              "      <td>Diesel</td>\n",
              "    </tr>\n",
              "    <tr>\n",
              "      <th>889</th>\n",
              "      <td>Mahindra Quanto C8</td>\n",
              "      <td>Mahindra</td>\n",
              "      <td>2013</td>\n",
              "      <td>3,90,000</td>\n",
              "      <td>40,000</td>\n",
              "      <td>Diesel</td>\n",
              "    </tr>\n",
              "    <tr>\n",
              "      <th>890</th>\n",
              "      <td>Honda Amaze 1.2 E i VTEC</td>\n",
              "      <td>Honda</td>\n",
              "      <td>2014</td>\n",
              "      <td>1,80,000</td>\n",
              "      <td>Petrol</td>\n",
              "      <td>NaN</td>\n",
              "    </tr>\n",
              "    <tr>\n",
              "      <th>891</th>\n",
              "      <td>Chevrolet Sail 1.2 LT ABS</td>\n",
              "      <td>Chevrolet</td>\n",
              "      <td>2014</td>\n",
              "      <td>1,60,000</td>\n",
              "      <td>Petrol</td>\n",
              "      <td>NaN</td>\n",
              "    </tr>\n",
              "  </tbody>\n",
              "</table>\n",
              "<p>892 rows × 6 columns</p>\n",
              "</div>\n",
              "      <button class=\"colab-df-convert\" onclick=\"convertToInteractive('df-bea4168f-b570-493e-ae6b-b51b561eadcf')\"\n",
              "              title=\"Convert this dataframe to an interactive table.\"\n",
              "              style=\"display:none;\">\n",
              "        \n",
              "  <svg xmlns=\"http://www.w3.org/2000/svg\" height=\"24px\"viewBox=\"0 0 24 24\"\n",
              "       width=\"24px\">\n",
              "    <path d=\"M0 0h24v24H0V0z\" fill=\"none\"/>\n",
              "    <path d=\"M18.56 5.44l.94 2.06.94-2.06 2.06-.94-2.06-.94-.94-2.06-.94 2.06-2.06.94zm-11 1L8.5 8.5l.94-2.06 2.06-.94-2.06-.94L8.5 2.5l-.94 2.06-2.06.94zm10 10l.94 2.06.94-2.06 2.06-.94-2.06-.94-.94-2.06-.94 2.06-2.06.94z\"/><path d=\"M17.41 7.96l-1.37-1.37c-.4-.4-.92-.59-1.43-.59-.52 0-1.04.2-1.43.59L10.3 9.45l-7.72 7.72c-.78.78-.78 2.05 0 2.83L4 21.41c.39.39.9.59 1.41.59.51 0 1.02-.2 1.41-.59l7.78-7.78 2.81-2.81c.8-.78.8-2.07 0-2.86zM5.41 20L4 18.59l7.72-7.72 1.47 1.35L5.41 20z\"/>\n",
              "  </svg>\n",
              "      </button>\n",
              "      \n",
              "  <style>\n",
              "    .colab-df-container {\n",
              "      display:flex;\n",
              "      flex-wrap:wrap;\n",
              "      gap: 12px;\n",
              "    }\n",
              "\n",
              "    .colab-df-convert {\n",
              "      background-color: #E8F0FE;\n",
              "      border: none;\n",
              "      border-radius: 50%;\n",
              "      cursor: pointer;\n",
              "      display: none;\n",
              "      fill: #1967D2;\n",
              "      height: 32px;\n",
              "      padding: 0 0 0 0;\n",
              "      width: 32px;\n",
              "    }\n",
              "\n",
              "    .colab-df-convert:hover {\n",
              "      background-color: #E2EBFA;\n",
              "      box-shadow: 0px 1px 2px rgba(60, 64, 67, 0.3), 0px 1px 3px 1px rgba(60, 64, 67, 0.15);\n",
              "      fill: #174EA6;\n",
              "    }\n",
              "\n",
              "    [theme=dark] .colab-df-convert {\n",
              "      background-color: #3B4455;\n",
              "      fill: #D2E3FC;\n",
              "    }\n",
              "\n",
              "    [theme=dark] .colab-df-convert:hover {\n",
              "      background-color: #434B5C;\n",
              "      box-shadow: 0px 1px 3px 1px rgba(0, 0, 0, 0.15);\n",
              "      filter: drop-shadow(0px 1px 2px rgba(0, 0, 0, 0.3));\n",
              "      fill: #FFFFFF;\n",
              "    }\n",
              "  </style>\n",
              "\n",
              "      <script>\n",
              "        const buttonEl =\n",
              "          document.querySelector('#df-bea4168f-b570-493e-ae6b-b51b561eadcf button.colab-df-convert');\n",
              "        buttonEl.style.display =\n",
              "          google.colab.kernel.accessAllowed ? 'block' : 'none';\n",
              "\n",
              "        async function convertToInteractive(key) {\n",
              "          const element = document.querySelector('#df-bea4168f-b570-493e-ae6b-b51b561eadcf');\n",
              "          const dataTable =\n",
              "            await google.colab.kernel.invokeFunction('convertToInteractive',\n",
              "                                                     [key], {});\n",
              "          if (!dataTable) return;\n",
              "\n",
              "          const docLinkHtml = 'Like what you see? Visit the ' +\n",
              "            '<a target=\"_blank\" href=https://colab.research.google.com/notebooks/data_table.ipynb>data table notebook</a>'\n",
              "            + ' to learn more about interactive tables.';\n",
              "          element.innerHTML = '';\n",
              "          dataTable['output_type'] = 'display_data';\n",
              "          await google.colab.output.renderOutput(dataTable, element);\n",
              "          const docLink = document.createElement('div');\n",
              "          docLink.innerHTML = docLinkHtml;\n",
              "          element.appendChild(docLink);\n",
              "        }\n",
              "      </script>\n",
              "    </div>\n",
              "  </div>\n",
              "  "
            ],
            "text/plain": [
              "                                Name of car Company name  Year          Price  \\\n",
              "0      Hyundai Santro Xing XO eRLX Euro III      Hyundai  2007         80,000   \n",
              "1                   Mahindra Jeep CL550 MDI     Mahindra  2006       4,25,000   \n",
              "2                Maruti Suzuki Alto 800 Vxi       Maruti  2018  Ask For Price   \n",
              "3    Hyundai Grand i10 Magna 1.2 Kappa VTVT      Hyundai  2014       3,25,000   \n",
              "4          Ford EcoSport Titanium 1.5L TDCi         Ford  2014       5,75,000   \n",
              "..                                      ...          ...   ...            ...   \n",
              "887                                      Ta         Tara  zest       3,10,000   \n",
              "888                     Tata Zest XM Diesel         Tata  2018       2,60,000   \n",
              "889                      Mahindra Quanto C8     Mahindra  2013       3,90,000   \n",
              "890                Honda Amaze 1.2 E i VTEC        Honda  2014       1,80,000   \n",
              "891               Chevrolet Sail 1.2 LT ABS    Chevrolet  2014       1,60,000   \n",
              "\n",
              "     Kms driven Fuel_type  \n",
              "0        45,000    Petrol  \n",
              "1            40    Diesel  \n",
              "2    22,000 kms    Petrol  \n",
              "3        28,000    Petrol  \n",
              "4        36,000    Diesel  \n",
              "..          ...       ...  \n",
              "887         NaN       NaN  \n",
              "888      27,000    Diesel  \n",
              "889      40,000    Diesel  \n",
              "890      Petrol       NaN  \n",
              "891      Petrol       NaN  \n",
              "\n",
              "[892 rows x 6 columns]"
            ]
          },
          "execution_count": 3,
          "metadata": {},
          "output_type": "execute_result"
        }
      ],
      "source": [
        "df=pd.read_csv('/content/quikr_car.csv')\n",
        "df\n"
      ]
    },
    {
      "cell_type": "code",
      "execution_count": 4,
      "metadata": {
        "colab": {
          "base_uri": "https://localhost:8080/"
        },
        "id": "zxpqMR_FAwqj",
        "outputId": "57f61ac1-e2c4-4462-8036-a154232a0478"
      },
      "outputs": [
        {
          "name": "stdout",
          "output_type": "stream",
          "text": [
            "<class 'pandas.core.frame.DataFrame'>\n",
            "RangeIndex: 892 entries, 0 to 891\n",
            "Data columns (total 6 columns):\n",
            " #   Column        Non-Null Count  Dtype \n",
            "---  ------        --------------  ----- \n",
            " 0   Name of car   892 non-null    object\n",
            " 1   Company name  892 non-null    object\n",
            " 2   Year          892 non-null    object\n",
            " 3   Price         892 non-null    object\n",
            " 4   Kms driven    840 non-null    object\n",
            " 5   Fuel_type     837 non-null    object\n",
            "dtypes: object(6)\n",
            "memory usage: 41.9+ KB\n"
          ]
        }
      ],
      "source": [
        "df.info()"
      ]
    },
    {
      "cell_type": "code",
      "execution_count": 5,
      "metadata": {
        "colab": {
          "base_uri": "https://localhost:8080/"
        },
        "id": "2l_uBz6jA7XR",
        "outputId": "1712ce7a-3337-4dd8-f679-6117eff6aac3"
      },
      "outputs": [
        {
          "data": {
            "text/plain": [
              "Name of car                          Company name  Year  Price      Kms driven  Fuel_type\n",
              "Mahindra Scorpio S10                 Mahindra      2015  9,00,000   97,200      Diesel       5\n",
              "Honda Amaze                          Honda         2015  3,44,999   22,000      Petrol       4\n",
              "Mini Cooper S 1.6                    Mini          2013  18,91,111  13,000      Petrol       4\n",
              "Honda Amaze                          Honda         2013  2,84,999   46,000      Diesel       4\n",
              "Force Motors Force One LX ABS 7 STR  Force         2015  5,80,000   3,200       Diesel       3\n",
              "                                                                                            ..\n",
              "Hyundai i10 Sportz 1.2               Hyundai       2010  1,68,000   45,872      Petrol       1\n",
              "                                                   2011  2,20,000   38,000      Petrol       1\n",
              "Hyundai i20                          Hyundai       2009  1,99,000   31,000      Petrol       1\n",
              "                                                   2014  4,49,999   23,000      Petrol       1\n",
              "Volvo S80 Summum D4                  Volvo         2015  18,50,000  42,000      Diesel       1\n",
              "Length: 745, dtype: int64"
            ]
          },
          "execution_count": 5,
          "metadata": {},
          "output_type": "execute_result"
        }
      ],
      "source": [
        "df.value_counts()"
      ]
    },
    {
      "cell_type": "code",
      "execution_count": 6,
      "metadata": {
        "colab": {
          "base_uri": "https://localhost:8080/"
        },
        "id": "iuHswqDkJk7f",
        "outputId": "b5aceca6-304c-4cdd-e6a7-556c353fe5d4"
      },
      "outputs": [
        {
          "data": {
            "text/plain": [
              "Name of car      0\n",
              "Company name     0\n",
              "Year             0\n",
              "Price            0\n",
              "Kms driven      52\n",
              "Fuel_type       55\n",
              "dtype: int64"
            ]
          },
          "execution_count": 6,
          "metadata": {},
          "output_type": "execute_result"
        }
      ],
      "source": [
        "df.isna().sum()"
      ]
    },
    {
      "cell_type": "code",
      "execution_count": 7,
      "metadata": {
        "id": "yEZJX70VJoqE"
      },
      "outputs": [],
      "source": [
        "df.dropna(inplace=True)"
      ]
    },
    {
      "cell_type": "code",
      "execution_count": 8,
      "metadata": {
        "colab": {
          "base_uri": "https://localhost:8080/",
          "height": 676
        },
        "id": "T2k3UxH4oQKW",
        "outputId": "c34ab498-a859-4292-e8ae-d442310efbf8"
      },
      "outputs": [
        {
          "data": {
            "text/html": [
              "\n",
              "  <div id=\"df-b296d2c9-fd88-4635-82e6-c0f516f02ee8\">\n",
              "    <div class=\"colab-df-container\">\n",
              "      <div>\n",
              "<style scoped>\n",
              "    .dataframe tbody tr th:only-of-type {\n",
              "        vertical-align: middle;\n",
              "    }\n",
              "\n",
              "    .dataframe tbody tr th {\n",
              "        vertical-align: top;\n",
              "    }\n",
              "\n",
              "    .dataframe thead th {\n",
              "        text-align: right;\n",
              "    }\n",
              "</style>\n",
              "<table border=\"1\" class=\"dataframe\">\n",
              "  <thead>\n",
              "    <tr style=\"text-align: right;\">\n",
              "      <th></th>\n",
              "      <th>Name of car</th>\n",
              "      <th>Company name</th>\n",
              "      <th>Year</th>\n",
              "      <th>Price</th>\n",
              "      <th>Kms driven</th>\n",
              "      <th>Fuel_type</th>\n",
              "    </tr>\n",
              "  </thead>\n",
              "  <tbody>\n",
              "    <tr>\n",
              "      <th>336</th>\n",
              "      <td>Renault Duster 110 PS RxZ Diesel Plus</td>\n",
              "      <td>Renault</td>\n",
              "      <td>2012</td>\n",
              "      <td>5,01,000</td>\n",
              "      <td>38,000</td>\n",
              "      <td>Diesel</td>\n",
              "    </tr>\n",
              "    <tr>\n",
              "      <th>699</th>\n",
              "      <td>Mahindra Scorpio SLX</td>\n",
              "      <td>Mahindra</td>\n",
              "      <td>2004</td>\n",
              "      <td>1,75,000</td>\n",
              "      <td>60,000</td>\n",
              "      <td>Diesel</td>\n",
              "    </tr>\n",
              "    <tr>\n",
              "      <th>816</th>\n",
              "      <td>Hyundai Creta</td>\n",
              "      <td>Hyundai</td>\n",
              "      <td>2016</td>\n",
              "      <td>9,00,000</td>\n",
              "      <td>60,000</td>\n",
              "      <td>Diesel</td>\n",
              "    </tr>\n",
              "    <tr>\n",
              "      <th>828</th>\n",
              "      <td>Maruti Suzuki Swift Select Variant</td>\n",
              "      <td>Maruti</td>\n",
              "      <td>2008</td>\n",
              "      <td>1,62,000</td>\n",
              "      <td>60,000</td>\n",
              "      <td>Diesel</td>\n",
              "    </tr>\n",
              "    <tr>\n",
              "      <th>426</th>\n",
              "      <td>Maruti Suzuki Swift Dzire Tour LDi</td>\n",
              "      <td>Maruti</td>\n",
              "      <td>2015</td>\n",
              "      <td>2,20,000</td>\n",
              "      <td>1,29,000</td>\n",
              "      <td>Diesel</td>\n",
              "    </tr>\n",
              "    <tr>\n",
              "      <th>459</th>\n",
              "      <td>Honda City SV</td>\n",
              "      <td>Honda</td>\n",
              "      <td>2017</td>\n",
              "      <td>7,60,000</td>\n",
              "      <td>4,000</td>\n",
              "      <td>Petrol</td>\n",
              "    </tr>\n",
              "    <tr>\n",
              "      <th>538</th>\n",
              "      <td>Audi A6 2.0 TDI Premium</td>\n",
              "      <td>Audi</td>\n",
              "      <td>2012</td>\n",
              "      <td>15,99,000</td>\n",
              "      <td>11,500</td>\n",
              "      <td>Diesel</td>\n",
              "    </tr>\n",
              "    <tr>\n",
              "      <th>410</th>\n",
              "      <td>Honda Jazz S MT</td>\n",
              "      <td>Honda</td>\n",
              "      <td>2009</td>\n",
              "      <td>1,69,999</td>\n",
              "      <td>24,695</td>\n",
              "      <td>Petrol</td>\n",
              "    </tr>\n",
              "    <tr>\n",
              "      <th>451</th>\n",
              "      <td>Ford Figo Duratorq Diesel Titanium 1.4</td>\n",
              "      <td>Ford</td>\n",
              "      <td>2012</td>\n",
              "      <td>2,50,000</td>\n",
              "      <td>99,000</td>\n",
              "      <td>Diesel</td>\n",
              "    </tr>\n",
              "    <tr>\n",
              "      <th>273</th>\n",
              "      <td>Renault Duster 85 PS RxL Diesel</td>\n",
              "      <td>Renault</td>\n",
              "      <td>2015</td>\n",
              "      <td>5,49,999</td>\n",
              "      <td>19,000</td>\n",
              "      <td>Diesel</td>\n",
              "    </tr>\n",
              "    <tr>\n",
              "      <th>509</th>\n",
              "      <td>Tata Nano Lx BSIV</td>\n",
              "      <td>Tata</td>\n",
              "      <td>2010</td>\n",
              "      <td>52,000</td>\n",
              "      <td>9,000</td>\n",
              "      <td>Petrol</td>\n",
              "    </tr>\n",
              "    <tr>\n",
              "      <th>387</th>\n",
              "      <td>Toyota Innova 2.5 E MS 7 STR BS IV</td>\n",
              "      <td>Toyota</td>\n",
              "      <td>2012</td>\n",
              "      <td>7,70,000</td>\n",
              "      <td>0 kms</td>\n",
              "      <td>Diesel</td>\n",
              "    </tr>\n",
              "    <tr>\n",
              "      <th>539</th>\n",
              "      <td>Maruti Suzuki Wagon R LXi BS III</td>\n",
              "      <td>Maruti</td>\n",
              "      <td>2003</td>\n",
              "      <td>1,30,000</td>\n",
              "      <td>1,33,000</td>\n",
              "      <td>Petrol</td>\n",
              "    </tr>\n",
              "    <tr>\n",
              "      <th>824</th>\n",
              "      <td>Maruti Suzuki Alto 800 Lxi</td>\n",
              "      <td>Maruti</td>\n",
              "      <td>2017</td>\n",
              "      <td>2,25,000</td>\n",
              "      <td>12,500</td>\n",
              "      <td>Petrol</td>\n",
              "    </tr>\n",
              "    <tr>\n",
              "      <th>112</th>\n",
              "      <td>Hyundai i20 Asta 1.4 CRDI 6 Speed</td>\n",
              "      <td>Hyundai</td>\n",
              "      <td>2012</td>\n",
              "      <td>3,29,500</td>\n",
              "      <td>36,200</td>\n",
              "      <td>Diesel</td>\n",
              "    </tr>\n",
              "    <tr>\n",
              "      <th>536</th>\n",
              "      <td>Maruti Suzuki Wagon R LXi BS III</td>\n",
              "      <td>Maruti</td>\n",
              "      <td>2006</td>\n",
              "      <td>90,001</td>\n",
              "      <td>48,000</td>\n",
              "      <td>Petrol</td>\n",
              "    </tr>\n",
              "    <tr>\n",
              "      <th>457</th>\n",
              "      <td>Hyundai Elite i20 Magna 1.2</td>\n",
              "      <td>Hyundai</td>\n",
              "      <td>2015</td>\n",
              "      <td>4,05,000</td>\n",
              "      <td>28,000</td>\n",
              "      <td>Petrol</td>\n",
              "    </tr>\n",
              "    <tr>\n",
              "      <th>855</th>\n",
              "      <td>Hyundai Santro AE GLS Audio</td>\n",
              "      <td>Hyundai</td>\n",
              "      <td>2003</td>\n",
              "      <td>60,000</td>\n",
              "      <td>70,000</td>\n",
              "      <td>Petrol</td>\n",
              "    </tr>\n",
              "    <tr>\n",
              "      <th>673</th>\n",
              "      <td>Maruti Suzuki Ertiga LDi</td>\n",
              "      <td>Maruti</td>\n",
              "      <td>2013</td>\n",
              "      <td>4,75,000</td>\n",
              "      <td>48,000</td>\n",
              "      <td>Diesel</td>\n",
              "    </tr>\n",
              "    <tr>\n",
              "      <th>171</th>\n",
              "      <td>Honda City 1.5 V MT</td>\n",
              "      <td>Honda</td>\n",
              "      <td>2014</td>\n",
              "      <td>5,49,000</td>\n",
              "      <td>39,000</td>\n",
              "      <td>Petrol</td>\n",
              "    </tr>\n",
              "  </tbody>\n",
              "</table>\n",
              "</div>\n",
              "      <button class=\"colab-df-convert\" onclick=\"convertToInteractive('df-b296d2c9-fd88-4635-82e6-c0f516f02ee8')\"\n",
              "              title=\"Convert this dataframe to an interactive table.\"\n",
              "              style=\"display:none;\">\n",
              "        \n",
              "  <svg xmlns=\"http://www.w3.org/2000/svg\" height=\"24px\"viewBox=\"0 0 24 24\"\n",
              "       width=\"24px\">\n",
              "    <path d=\"M0 0h24v24H0V0z\" fill=\"none\"/>\n",
              "    <path d=\"M18.56 5.44l.94 2.06.94-2.06 2.06-.94-2.06-.94-.94-2.06-.94 2.06-2.06.94zm-11 1L8.5 8.5l.94-2.06 2.06-.94-2.06-.94L8.5 2.5l-.94 2.06-2.06.94zm10 10l.94 2.06.94-2.06 2.06-.94-2.06-.94-.94-2.06-.94 2.06-2.06.94z\"/><path d=\"M17.41 7.96l-1.37-1.37c-.4-.4-.92-.59-1.43-.59-.52 0-1.04.2-1.43.59L10.3 9.45l-7.72 7.72c-.78.78-.78 2.05 0 2.83L4 21.41c.39.39.9.59 1.41.59.51 0 1.02-.2 1.41-.59l7.78-7.78 2.81-2.81c.8-.78.8-2.07 0-2.86zM5.41 20L4 18.59l7.72-7.72 1.47 1.35L5.41 20z\"/>\n",
              "  </svg>\n",
              "      </button>\n",
              "      \n",
              "  <style>\n",
              "    .colab-df-container {\n",
              "      display:flex;\n",
              "      flex-wrap:wrap;\n",
              "      gap: 12px;\n",
              "    }\n",
              "\n",
              "    .colab-df-convert {\n",
              "      background-color: #E8F0FE;\n",
              "      border: none;\n",
              "      border-radius: 50%;\n",
              "      cursor: pointer;\n",
              "      display: none;\n",
              "      fill: #1967D2;\n",
              "      height: 32px;\n",
              "      padding: 0 0 0 0;\n",
              "      width: 32px;\n",
              "    }\n",
              "\n",
              "    .colab-df-convert:hover {\n",
              "      background-color: #E2EBFA;\n",
              "      box-shadow: 0px 1px 2px rgba(60, 64, 67, 0.3), 0px 1px 3px 1px rgba(60, 64, 67, 0.15);\n",
              "      fill: #174EA6;\n",
              "    }\n",
              "\n",
              "    [theme=dark] .colab-df-convert {\n",
              "      background-color: #3B4455;\n",
              "      fill: #D2E3FC;\n",
              "    }\n",
              "\n",
              "    [theme=dark] .colab-df-convert:hover {\n",
              "      background-color: #434B5C;\n",
              "      box-shadow: 0px 1px 3px 1px rgba(0, 0, 0, 0.15);\n",
              "      filter: drop-shadow(0px 1px 2px rgba(0, 0, 0, 0.3));\n",
              "      fill: #FFFFFF;\n",
              "    }\n",
              "  </style>\n",
              "\n",
              "      <script>\n",
              "        const buttonEl =\n",
              "          document.querySelector('#df-b296d2c9-fd88-4635-82e6-c0f516f02ee8 button.colab-df-convert');\n",
              "        buttonEl.style.display =\n",
              "          google.colab.kernel.accessAllowed ? 'block' : 'none';\n",
              "\n",
              "        async function convertToInteractive(key) {\n",
              "          const element = document.querySelector('#df-b296d2c9-fd88-4635-82e6-c0f516f02ee8');\n",
              "          const dataTable =\n",
              "            await google.colab.kernel.invokeFunction('convertToInteractive',\n",
              "                                                     [key], {});\n",
              "          if (!dataTable) return;\n",
              "\n",
              "          const docLinkHtml = 'Like what you see? Visit the ' +\n",
              "            '<a target=\"_blank\" href=https://colab.research.google.com/notebooks/data_table.ipynb>data table notebook</a>'\n",
              "            + ' to learn more about interactive tables.';\n",
              "          element.innerHTML = '';\n",
              "          dataTable['output_type'] = 'display_data';\n",
              "          await google.colab.output.renderOutput(dataTable, element);\n",
              "          const docLink = document.createElement('div');\n",
              "          docLink.innerHTML = docLinkHtml;\n",
              "          element.appendChild(docLink);\n",
              "        }\n",
              "      </script>\n",
              "    </div>\n",
              "  </div>\n",
              "  "
            ],
            "text/plain": [
              "                                Name of car Company name  Year      Price  \\\n",
              "336   Renault Duster 110 PS RxZ Diesel Plus      Renault  2012   5,01,000   \n",
              "699                    Mahindra Scorpio SLX     Mahindra  2004   1,75,000   \n",
              "816                           Hyundai Creta      Hyundai  2016   9,00,000   \n",
              "828      Maruti Suzuki Swift Select Variant       Maruti  2008   1,62,000   \n",
              "426      Maruti Suzuki Swift Dzire Tour LDi       Maruti  2015   2,20,000   \n",
              "459                           Honda City SV        Honda  2017   7,60,000   \n",
              "538                 Audi A6 2.0 TDI Premium         Audi  2012  15,99,000   \n",
              "410                         Honda Jazz S MT        Honda  2009   1,69,999   \n",
              "451  Ford Figo Duratorq Diesel Titanium 1.4         Ford  2012   2,50,000   \n",
              "273         Renault Duster 85 PS RxL Diesel      Renault  2015   5,49,999   \n",
              "509                       Tata Nano Lx BSIV         Tata  2010     52,000   \n",
              "387      Toyota Innova 2.5 E MS 7 STR BS IV       Toyota  2012   7,70,000   \n",
              "539        Maruti Suzuki Wagon R LXi BS III       Maruti  2003   1,30,000   \n",
              "824              Maruti Suzuki Alto 800 Lxi       Maruti  2017   2,25,000   \n",
              "112       Hyundai i20 Asta 1.4 CRDI 6 Speed      Hyundai  2012   3,29,500   \n",
              "536        Maruti Suzuki Wagon R LXi BS III       Maruti  2006     90,001   \n",
              "457             Hyundai Elite i20 Magna 1.2      Hyundai  2015   4,05,000   \n",
              "855             Hyundai Santro AE GLS Audio      Hyundai  2003     60,000   \n",
              "673                Maruti Suzuki Ertiga LDi       Maruti  2013   4,75,000   \n",
              "171                     Honda City 1.5 V MT        Honda  2014   5,49,000   \n",
              "\n",
              "    Kms driven Fuel_type  \n",
              "336     38,000    Diesel  \n",
              "699     60,000    Diesel  \n",
              "816     60,000    Diesel  \n",
              "828     60,000    Diesel  \n",
              "426  1,29,000     Diesel  \n",
              "459      4,000    Petrol  \n",
              "538     11,500    Diesel  \n",
              "410     24,695    Petrol  \n",
              "451     99,000    Diesel  \n",
              "273     19,000    Diesel  \n",
              "509      9,000    Petrol  \n",
              "387      0 kms    Diesel  \n",
              "539  1,33,000     Petrol  \n",
              "824     12,500    Petrol  \n",
              "112     36,200    Diesel  \n",
              "536     48,000    Petrol  \n",
              "457     28,000    Petrol  \n",
              "855     70,000    Petrol  \n",
              "673     48,000    Diesel  \n",
              "171     39,000    Petrol  "
            ]
          },
          "execution_count": 8,
          "metadata": {},
          "output_type": "execute_result"
        }
      ],
      "source": [
        "df.sample(20)"
      ]
    },
    {
      "cell_type": "markdown",
      "metadata": {
        "id": "2LrGaNSvAjeC"
      },
      "source": [
        "# Data analysing steps"
      ]
    },
    {
      "cell_type": "code",
      "execution_count": 9,
      "metadata": {
        "id": "P14MMnDqJr-Y"
      },
      "outputs": [],
      "source": [
        "df=df[df['Year'].str.isnumeric()]\n",
        "\n",
        "df['Year']=df['Year'].astype(int)"
      ]
    },
    {
      "cell_type": "code",
      "execution_count": 10,
      "metadata": {
        "id": "jn1F0BroCWqi"
      },
      "outputs": [],
      "source": [
        "df=df[df['Price']!='Ask For Price']\n",
        "\n",
        "df['Price']=df['Price'].str.replace(',','').astype(int)"
      ]
    },
    {
      "cell_type": "code",
      "execution_count": 10,
      "metadata": {
        "id": "W6ULI7ZyGStJ"
      },
      "outputs": [],
      "source": []
    },
    {
      "cell_type": "code",
      "execution_count": 11,
      "metadata": {
        "id": "6erfuRGSD-rS"
      },
      "outputs": [],
      "source": [
        "df['Kms driven']=df['Kms driven'].str.split(' ').str.get(0).replace(',','')\n",
        "df=df[df['Kms driven'].str.isnumeric()]\n",
        "df['Kms driven']=df['Kms driven'].astype(int)"
      ]
    },
    {
      "cell_type": "code",
      "execution_count": 11,
      "metadata": {
        "id": "M6pap08lM-9L"
      },
      "outputs": [],
      "source": []
    },
    {
      "cell_type": "code",
      "execution_count": 12,
      "metadata": {
        "colab": {
          "base_uri": "https://localhost:8080/",
          "height": 519
        },
        "id": "VEOH5T2UGtcs",
        "outputId": "efd70bf4-e705-47ac-edf6-d67e9ec27408"
      },
      "outputs": [
        {
          "data": {
            "text/html": [
              "\n",
              "  <div id=\"df-236fefae-d369-43b3-8ac0-a20b58d9608d\">\n",
              "    <div class=\"colab-df-container\">\n",
              "      <div>\n",
              "<style scoped>\n",
              "    .dataframe tbody tr th:only-of-type {\n",
              "        vertical-align: middle;\n",
              "    }\n",
              "\n",
              "    .dataframe tbody tr th {\n",
              "        vertical-align: top;\n",
              "    }\n",
              "\n",
              "    .dataframe thead th {\n",
              "        text-align: right;\n",
              "    }\n",
              "</style>\n",
              "<table border=\"1\" class=\"dataframe\">\n",
              "  <thead>\n",
              "    <tr style=\"text-align: right;\">\n",
              "      <th></th>\n",
              "      <th>Name of car</th>\n",
              "      <th>Company name</th>\n",
              "      <th>Year</th>\n",
              "      <th>Price</th>\n",
              "      <th>Kms driven</th>\n",
              "      <th>Fuel_type</th>\n",
              "    </tr>\n",
              "  </thead>\n",
              "  <tbody>\n",
              "    <tr>\n",
              "      <th>387</th>\n",
              "      <td>Toyota Innova 2.5 E MS 7 STR BS IV</td>\n",
              "      <td>Toyota</td>\n",
              "      <td>2012</td>\n",
              "      <td>770000</td>\n",
              "      <td>0</td>\n",
              "      <td>Diesel</td>\n",
              "    </tr>\n",
              "    <tr>\n",
              "      <th>470</th>\n",
              "      <td>Maruti Suzuki Swift Dzire Tour VXi</td>\n",
              "      <td>Maruti</td>\n",
              "      <td>2011</td>\n",
              "      <td>230000</td>\n",
              "      <td>65</td>\n",
              "      <td>Petrol</td>\n",
              "    </tr>\n",
              "    <tr>\n",
              "      <th>762</th>\n",
              "      <td>Tata Tiago Revotorq XZ</td>\n",
              "      <td>Tata</td>\n",
              "      <td>2019</td>\n",
              "      <td>568500</td>\n",
              "      <td>0</td>\n",
              "      <td>Petrol</td>\n",
              "    </tr>\n",
              "    <tr>\n",
              "      <th>485</th>\n",
              "      <td>Tata Tigor Revotron XZ</td>\n",
              "      <td>Tata</td>\n",
              "      <td>2019</td>\n",
              "      <td>650000</td>\n",
              "      <td>100</td>\n",
              "      <td>Diesel</td>\n",
              "    </tr>\n",
              "    <tr>\n",
              "      <th>364</th>\n",
              "      <td>Mahindra Jeep MM 550 XDB</td>\n",
              "      <td>Mahindra</td>\n",
              "      <td>2019</td>\n",
              "      <td>390000</td>\n",
              "      <td>60</td>\n",
              "      <td>Diesel</td>\n",
              "    </tr>\n",
              "    <tr>\n",
              "      <th>1</th>\n",
              "      <td>Mahindra Jeep CL550 MDI</td>\n",
              "      <td>Mahindra</td>\n",
              "      <td>2006</td>\n",
              "      <td>425000</td>\n",
              "      <td>40</td>\n",
              "      <td>Diesel</td>\n",
              "    </tr>\n",
              "    <tr>\n",
              "      <th>427</th>\n",
              "      <td>Nissan X Trail Select Variant</td>\n",
              "      <td>Nissan</td>\n",
              "      <td>2019</td>\n",
              "      <td>1200000</td>\n",
              "      <td>300</td>\n",
              "      <td>Diesel</td>\n",
              "    </tr>\n",
              "    <tr>\n",
              "      <th>382</th>\n",
              "      <td>Mahindra Jeep MM 550 XDB</td>\n",
              "      <td>Mahindra</td>\n",
              "      <td>2006</td>\n",
              "      <td>425000</td>\n",
              "      <td>122</td>\n",
              "      <td>Diesel</td>\n",
              "    </tr>\n",
              "    <tr>\n",
              "      <th>577</th>\n",
              "      <td>Mahindra Jeep MM 550 XDB</td>\n",
              "      <td>Mahindra</td>\n",
              "      <td>2004</td>\n",
              "      <td>424000</td>\n",
              "      <td>383</td>\n",
              "      <td>Diesel</td>\n",
              "    </tr>\n",
              "    <tr>\n",
              "      <th>381</th>\n",
              "      <td>Mahindra Jeep CL550 MDI</td>\n",
              "      <td>Mahindra</td>\n",
              "      <td>2018</td>\n",
              "      <td>385000</td>\n",
              "      <td>588</td>\n",
              "      <td>Diesel</td>\n",
              "    </tr>\n",
              "    <tr>\n",
              "      <th>15</th>\n",
              "      <td>Mahindra Jeep CL550 MDI</td>\n",
              "      <td>Mahindra</td>\n",
              "      <td>2006</td>\n",
              "      <td>425000</td>\n",
              "      <td>40</td>\n",
              "      <td>Diesel</td>\n",
              "    </tr>\n",
              "    <tr>\n",
              "      <th>738</th>\n",
              "      <td>Hyundai Creta 1.6 SX</td>\n",
              "      <td>Hyundai</td>\n",
              "      <td>2019</td>\n",
              "      <td>1200000</td>\n",
              "      <td>0</td>\n",
              "      <td>Petrol</td>\n",
              "    </tr>\n",
              "    <tr>\n",
              "      <th>222</th>\n",
              "      <td>Mahindra Jeep CL550 MDI</td>\n",
              "      <td>Mahindra</td>\n",
              "      <td>2018</td>\n",
              "      <td>385000</td>\n",
              "      <td>588</td>\n",
              "      <td>Diesel</td>\n",
              "    </tr>\n",
              "    <tr>\n",
              "      <th>702</th>\n",
              "      <td>Ford Figo Petrol Titanium</td>\n",
              "      <td>Ford</td>\n",
              "      <td>2019</td>\n",
              "      <td>525000</td>\n",
              "      <td>0</td>\n",
              "      <td>Petrol</td>\n",
              "    </tr>\n",
              "    <tr>\n",
              "      <th>302</th>\n",
              "      <td>Maruti Suzuki Swift VXi 1.2 ABS BS IV</td>\n",
              "      <td>Maruti</td>\n",
              "      <td>2019</td>\n",
              "      <td>610000</td>\n",
              "      <td>73</td>\n",
              "      <td>Petrol</td>\n",
              "    </tr>\n",
              "  </tbody>\n",
              "</table>\n",
              "</div>\n",
              "      <button class=\"colab-df-convert\" onclick=\"convertToInteractive('df-236fefae-d369-43b3-8ac0-a20b58d9608d')\"\n",
              "              title=\"Convert this dataframe to an interactive table.\"\n",
              "              style=\"display:none;\">\n",
              "        \n",
              "  <svg xmlns=\"http://www.w3.org/2000/svg\" height=\"24px\"viewBox=\"0 0 24 24\"\n",
              "       width=\"24px\">\n",
              "    <path d=\"M0 0h24v24H0V0z\" fill=\"none\"/>\n",
              "    <path d=\"M18.56 5.44l.94 2.06.94-2.06 2.06-.94-2.06-.94-.94-2.06-.94 2.06-2.06.94zm-11 1L8.5 8.5l.94-2.06 2.06-.94-2.06-.94L8.5 2.5l-.94 2.06-2.06.94zm10 10l.94 2.06.94-2.06 2.06-.94-2.06-.94-.94-2.06-.94 2.06-2.06.94z\"/><path d=\"M17.41 7.96l-1.37-1.37c-.4-.4-.92-.59-1.43-.59-.52 0-1.04.2-1.43.59L10.3 9.45l-7.72 7.72c-.78.78-.78 2.05 0 2.83L4 21.41c.39.39.9.59 1.41.59.51 0 1.02-.2 1.41-.59l7.78-7.78 2.81-2.81c.8-.78.8-2.07 0-2.86zM5.41 20L4 18.59l7.72-7.72 1.47 1.35L5.41 20z\"/>\n",
              "  </svg>\n",
              "      </button>\n",
              "      \n",
              "  <style>\n",
              "    .colab-df-container {\n",
              "      display:flex;\n",
              "      flex-wrap:wrap;\n",
              "      gap: 12px;\n",
              "    }\n",
              "\n",
              "    .colab-df-convert {\n",
              "      background-color: #E8F0FE;\n",
              "      border: none;\n",
              "      border-radius: 50%;\n",
              "      cursor: pointer;\n",
              "      display: none;\n",
              "      fill: #1967D2;\n",
              "      height: 32px;\n",
              "      padding: 0 0 0 0;\n",
              "      width: 32px;\n",
              "    }\n",
              "\n",
              "    .colab-df-convert:hover {\n",
              "      background-color: #E2EBFA;\n",
              "      box-shadow: 0px 1px 2px rgba(60, 64, 67, 0.3), 0px 1px 3px 1px rgba(60, 64, 67, 0.15);\n",
              "      fill: #174EA6;\n",
              "    }\n",
              "\n",
              "    [theme=dark] .colab-df-convert {\n",
              "      background-color: #3B4455;\n",
              "      fill: #D2E3FC;\n",
              "    }\n",
              "\n",
              "    [theme=dark] .colab-df-convert:hover {\n",
              "      background-color: #434B5C;\n",
              "      box-shadow: 0px 1px 3px 1px rgba(0, 0, 0, 0.15);\n",
              "      filter: drop-shadow(0px 1px 2px rgba(0, 0, 0, 0.3));\n",
              "      fill: #FFFFFF;\n",
              "    }\n",
              "  </style>\n",
              "\n",
              "      <script>\n",
              "        const buttonEl =\n",
              "          document.querySelector('#df-236fefae-d369-43b3-8ac0-a20b58d9608d button.colab-df-convert');\n",
              "        buttonEl.style.display =\n",
              "          google.colab.kernel.accessAllowed ? 'block' : 'none';\n",
              "\n",
              "        async function convertToInteractive(key) {\n",
              "          const element = document.querySelector('#df-236fefae-d369-43b3-8ac0-a20b58d9608d');\n",
              "          const dataTable =\n",
              "            await google.colab.kernel.invokeFunction('convertToInteractive',\n",
              "                                                     [key], {});\n",
              "          if (!dataTable) return;\n",
              "\n",
              "          const docLinkHtml = 'Like what you see? Visit the ' +\n",
              "            '<a target=\"_blank\" href=https://colab.research.google.com/notebooks/data_table.ipynb>data table notebook</a>'\n",
              "            + ' to learn more about interactive tables.';\n",
              "          element.innerHTML = '';\n",
              "          dataTable['output_type'] = 'display_data';\n",
              "          await google.colab.output.renderOutput(dataTable, element);\n",
              "          const docLink = document.createElement('div');\n",
              "          docLink.innerHTML = docLinkHtml;\n",
              "          element.appendChild(docLink);\n",
              "        }\n",
              "      </script>\n",
              "    </div>\n",
              "  </div>\n",
              "  "
            ],
            "text/plain": [
              "                               Name of car Company name  Year    Price  \\\n",
              "387     Toyota Innova 2.5 E MS 7 STR BS IV       Toyota  2012   770000   \n",
              "470     Maruti Suzuki Swift Dzire Tour VXi       Maruti  2011   230000   \n",
              "762                 Tata Tiago Revotorq XZ         Tata  2019   568500   \n",
              "485                 Tata Tigor Revotron XZ         Tata  2019   650000   \n",
              "364               Mahindra Jeep MM 550 XDB     Mahindra  2019   390000   \n",
              "1                  Mahindra Jeep CL550 MDI     Mahindra  2006   425000   \n",
              "427          Nissan X Trail Select Variant       Nissan  2019  1200000   \n",
              "382               Mahindra Jeep MM 550 XDB     Mahindra  2006   425000   \n",
              "577               Mahindra Jeep MM 550 XDB     Mahindra  2004   424000   \n",
              "381                Mahindra Jeep CL550 MDI     Mahindra  2018   385000   \n",
              "15                 Mahindra Jeep CL550 MDI     Mahindra  2006   425000   \n",
              "738                   Hyundai Creta 1.6 SX      Hyundai  2019  1200000   \n",
              "222                Mahindra Jeep CL550 MDI     Mahindra  2018   385000   \n",
              "702              Ford Figo Petrol Titanium         Ford  2019   525000   \n",
              "302  Maruti Suzuki Swift VXi 1.2 ABS BS IV       Maruti  2019   610000   \n",
              "\n",
              "     Kms driven Fuel_type  \n",
              "387           0    Diesel  \n",
              "470          65    Petrol  \n",
              "762           0    Petrol  \n",
              "485         100    Diesel  \n",
              "364          60    Diesel  \n",
              "1            40    Diesel  \n",
              "427         300    Diesel  \n",
              "382         122    Diesel  \n",
              "577         383    Diesel  \n",
              "381         588    Diesel  \n",
              "15           40    Diesel  \n",
              "738           0    Petrol  \n",
              "222         588    Diesel  \n",
              "702           0    Petrol  \n",
              "302          73    Petrol  "
            ]
          },
          "execution_count": 12,
          "metadata": {},
          "output_type": "execute_result"
        }
      ],
      "source": [
        "df.sample(15)"
      ]
    },
    {
      "cell_type": "code",
      "execution_count": 13,
      "metadata": {
        "colab": {
          "base_uri": "https://localhost:8080/"
        },
        "id": "6X66LP7hoKSz",
        "outputId": "e2d1f315-e154-4133-88f8-af581eaa6497"
      },
      "outputs": [
        {
          "name": "stdout",
          "output_type": "stream",
          "text": [
            "<class 'pandas.core.frame.DataFrame'>\n",
            "Int64Index: 17 entries, 1 to 762\n",
            "Data columns (total 6 columns):\n",
            " #   Column        Non-Null Count  Dtype \n",
            "---  ------        --------------  ----- \n",
            " 0   Name of car   17 non-null     object\n",
            " 1   Company name  17 non-null     object\n",
            " 2   Year          17 non-null     int64 \n",
            " 3   Price         17 non-null     int64 \n",
            " 4   Kms driven    17 non-null     int64 \n",
            " 5   Fuel_type     17 non-null     object\n",
            "dtypes: int64(3), object(3)\n",
            "memory usage: 952.0+ bytes\n"
          ]
        }
      ],
      "source": [
        "df.info()"
      ]
    },
    {
      "cell_type": "code",
      "execution_count": 14,
      "metadata": {
        "colab": {
          "base_uri": "https://localhost:8080/",
          "height": 300
        },
        "id": "Wx6B7ASMCx37",
        "outputId": "b24a9331-17ec-42d0-b2b4-2b05be29ee74"
      },
      "outputs": [
        {
          "data": {
            "text/html": [
              "\n",
              "  <div id=\"df-9595c935-236d-4023-82e2-c2c3bb5f2cd9\">\n",
              "    <div class=\"colab-df-container\">\n",
              "      <div>\n",
              "<style scoped>\n",
              "    .dataframe tbody tr th:only-of-type {\n",
              "        vertical-align: middle;\n",
              "    }\n",
              "\n",
              "    .dataframe tbody tr th {\n",
              "        vertical-align: top;\n",
              "    }\n",
              "\n",
              "    .dataframe thead th {\n",
              "        text-align: right;\n",
              "    }\n",
              "</style>\n",
              "<table border=\"1\" class=\"dataframe\">\n",
              "  <thead>\n",
              "    <tr style=\"text-align: right;\">\n",
              "      <th></th>\n",
              "      <th>Year</th>\n",
              "      <th>Price</th>\n",
              "      <th>Kms driven</th>\n",
              "    </tr>\n",
              "  </thead>\n",
              "  <tbody>\n",
              "    <tr>\n",
              "      <th>count</th>\n",
              "      <td>17.000000</td>\n",
              "      <td>1.700000e+01</td>\n",
              "      <td>17.000000</td>\n",
              "    </tr>\n",
              "    <tr>\n",
              "      <th>mean</th>\n",
              "      <td>2014.235294</td>\n",
              "      <td>5.369118e+05</td>\n",
              "      <td>142.294118</td>\n",
              "    </tr>\n",
              "    <tr>\n",
              "      <th>std</th>\n",
              "      <td>5.921670</td>\n",
              "      <td>2.911702e+05</td>\n",
              "      <td>198.243148</td>\n",
              "    </tr>\n",
              "    <tr>\n",
              "      <th>min</th>\n",
              "      <td>2004.000000</td>\n",
              "      <td>1.250000e+05</td>\n",
              "      <td>0.000000</td>\n",
              "    </tr>\n",
              "    <tr>\n",
              "      <th>25%</th>\n",
              "      <td>2009.000000</td>\n",
              "      <td>3.900000e+05</td>\n",
              "      <td>0.000000</td>\n",
              "    </tr>\n",
              "    <tr>\n",
              "      <th>50%</th>\n",
              "      <td>2018.000000</td>\n",
              "      <td>4.250000e+05</td>\n",
              "      <td>60.000000</td>\n",
              "    </tr>\n",
              "    <tr>\n",
              "      <th>75%</th>\n",
              "      <td>2019.000000</td>\n",
              "      <td>6.100000e+05</td>\n",
              "      <td>122.000000</td>\n",
              "    </tr>\n",
              "    <tr>\n",
              "      <th>max</th>\n",
              "      <td>2019.000000</td>\n",
              "      <td>1.200000e+06</td>\n",
              "      <td>588.000000</td>\n",
              "    </tr>\n",
              "  </tbody>\n",
              "</table>\n",
              "</div>\n",
              "      <button class=\"colab-df-convert\" onclick=\"convertToInteractive('df-9595c935-236d-4023-82e2-c2c3bb5f2cd9')\"\n",
              "              title=\"Convert this dataframe to an interactive table.\"\n",
              "              style=\"display:none;\">\n",
              "        \n",
              "  <svg xmlns=\"http://www.w3.org/2000/svg\" height=\"24px\"viewBox=\"0 0 24 24\"\n",
              "       width=\"24px\">\n",
              "    <path d=\"M0 0h24v24H0V0z\" fill=\"none\"/>\n",
              "    <path d=\"M18.56 5.44l.94 2.06.94-2.06 2.06-.94-2.06-.94-.94-2.06-.94 2.06-2.06.94zm-11 1L8.5 8.5l.94-2.06 2.06-.94-2.06-.94L8.5 2.5l-.94 2.06-2.06.94zm10 10l.94 2.06.94-2.06 2.06-.94-2.06-.94-.94-2.06-.94 2.06-2.06.94z\"/><path d=\"M17.41 7.96l-1.37-1.37c-.4-.4-.92-.59-1.43-.59-.52 0-1.04.2-1.43.59L10.3 9.45l-7.72 7.72c-.78.78-.78 2.05 0 2.83L4 21.41c.39.39.9.59 1.41.59.51 0 1.02-.2 1.41-.59l7.78-7.78 2.81-2.81c.8-.78.8-2.07 0-2.86zM5.41 20L4 18.59l7.72-7.72 1.47 1.35L5.41 20z\"/>\n",
              "  </svg>\n",
              "      </button>\n",
              "      \n",
              "  <style>\n",
              "    .colab-df-container {\n",
              "      display:flex;\n",
              "      flex-wrap:wrap;\n",
              "      gap: 12px;\n",
              "    }\n",
              "\n",
              "    .colab-df-convert {\n",
              "      background-color: #E8F0FE;\n",
              "      border: none;\n",
              "      border-radius: 50%;\n",
              "      cursor: pointer;\n",
              "      display: none;\n",
              "      fill: #1967D2;\n",
              "      height: 32px;\n",
              "      padding: 0 0 0 0;\n",
              "      width: 32px;\n",
              "    }\n",
              "\n",
              "    .colab-df-convert:hover {\n",
              "      background-color: #E2EBFA;\n",
              "      box-shadow: 0px 1px 2px rgba(60, 64, 67, 0.3), 0px 1px 3px 1px rgba(60, 64, 67, 0.15);\n",
              "      fill: #174EA6;\n",
              "    }\n",
              "\n",
              "    [theme=dark] .colab-df-convert {\n",
              "      background-color: #3B4455;\n",
              "      fill: #D2E3FC;\n",
              "    }\n",
              "\n",
              "    [theme=dark] .colab-df-convert:hover {\n",
              "      background-color: #434B5C;\n",
              "      box-shadow: 0px 1px 3px 1px rgba(0, 0, 0, 0.15);\n",
              "      filter: drop-shadow(0px 1px 2px rgba(0, 0, 0, 0.3));\n",
              "      fill: #FFFFFF;\n",
              "    }\n",
              "  </style>\n",
              "\n",
              "      <script>\n",
              "        const buttonEl =\n",
              "          document.querySelector('#df-9595c935-236d-4023-82e2-c2c3bb5f2cd9 button.colab-df-convert');\n",
              "        buttonEl.style.display =\n",
              "          google.colab.kernel.accessAllowed ? 'block' : 'none';\n",
              "\n",
              "        async function convertToInteractive(key) {\n",
              "          const element = document.querySelector('#df-9595c935-236d-4023-82e2-c2c3bb5f2cd9');\n",
              "          const dataTable =\n",
              "            await google.colab.kernel.invokeFunction('convertToInteractive',\n",
              "                                                     [key], {});\n",
              "          if (!dataTable) return;\n",
              "\n",
              "          const docLinkHtml = 'Like what you see? Visit the ' +\n",
              "            '<a target=\"_blank\" href=https://colab.research.google.com/notebooks/data_table.ipynb>data table notebook</a>'\n",
              "            + ' to learn more about interactive tables.';\n",
              "          element.innerHTML = '';\n",
              "          dataTable['output_type'] = 'display_data';\n",
              "          await google.colab.output.renderOutput(dataTable, element);\n",
              "          const docLink = document.createElement('div');\n",
              "          docLink.innerHTML = docLinkHtml;\n",
              "          element.appendChild(docLink);\n",
              "        }\n",
              "      </script>\n",
              "    </div>\n",
              "  </div>\n",
              "  "
            ],
            "text/plain": [
              "              Year         Price  Kms driven\n",
              "count    17.000000  1.700000e+01   17.000000\n",
              "mean   2014.235294  5.369118e+05  142.294118\n",
              "std       5.921670  2.911702e+05  198.243148\n",
              "min    2004.000000  1.250000e+05    0.000000\n",
              "25%    2009.000000  3.900000e+05    0.000000\n",
              "50%    2018.000000  4.250000e+05   60.000000\n",
              "75%    2019.000000  6.100000e+05  122.000000\n",
              "max    2019.000000  1.200000e+06  588.000000"
            ]
          },
          "execution_count": 14,
          "metadata": {},
          "output_type": "execute_result"
        }
      ],
      "source": [
        "df.describe()"
      ]
    },
    {
      "cell_type": "code",
      "execution_count": 14,
      "metadata": {
        "id": "G6fK73x1TNHz"
      },
      "outputs": [],
      "source": []
    },
    {
      "cell_type": "code",
      "execution_count": 15,
      "metadata": {
        "colab": {
          "base_uri": "https://localhost:8080/"
        },
        "id": "UVsOx4jXTLYG",
        "outputId": "13ebbbe5-c517-4231-b201-e9ac085309fc"
      },
      "outputs": [
        {
          "data": {
            "text/plain": [
              "1       425000\n",
              "15      425000\n",
              "215     390000\n",
              "222     385000\n",
              "302     610000\n",
              "364     390000\n",
              "381     385000\n",
              "382     425000\n",
              "387     770000\n",
              "427    1200000\n",
              "470     230000\n",
              "485     650000\n",
              "577     424000\n",
              "702     525000\n",
              "721     125000\n",
              "738    1200000\n",
              "762     568500\n",
              "Name: Price, dtype: int64"
            ]
          },
          "execution_count": 15,
          "metadata": {},
          "output_type": "execute_result"
        }
      ],
      "source": [
        "df['Price']"
      ]
    },
    {
      "cell_type": "code",
      "execution_count": 16,
      "metadata": {
        "colab": {
          "base_uri": "https://localhost:8080/",
          "height": 387
        },
        "id": "T5HnCQlcRmEf",
        "outputId": "4c4ec492-2976-4a57-dfa8-3b596928b97d"
      },
      "outputs": [
        {
          "data": {
            "text/plain": [
              "<Figure size 1152x432 with 0 Axes>"
            ]
          },
          "metadata": {},
          "output_type": "display_data"
        },
        {
          "data": {
            "image/png": "[encoded data removed]",
            "text/plain": [
              "<Figure size 360x360 with 1 Axes>"
            ]
          },
          "metadata": {
            "needs_background": "light"
          },
          "output_type": "display_data"
        }
      ],
      "source": [
        "plt.figure(figsize=(16,6))\n",
        "sns.relplot(x='Year',y='Price',data=df,height=5)\n",
        "plt.show()"
      ]
    },
    {
      "cell_type": "code",
      "execution_count": 17,
      "metadata": {
        "colab": {
          "base_uri": "https://localhost:8080/",
          "height": 387
        },
        "id": "qABEkkhrkQEj",
        "outputId": "8b62e254-8a64-4d95-db56-13591b8eefad"
      },
      "outputs": [
        {
          "data": {
            "text/plain": [
              "<seaborn.axisgrid.FacetGrid at 0x7fef396cf790>"
            ]
          },
          "execution_count": 17,
          "metadata": {},
          "output_type": "execute_result"
        },
        {
          "data": {
            "image/png": "[encoded data removed]",
            "text/plain": [
              "<Figure size 540x360 with 1 Axes>"
            ]
          },
          "metadata": {
            "needs_background": "light"
          },
          "output_type": "display_data"
        }
      ],
      "source": [
        "sns.relplot(x='Kms driven',y='Price',data=df,height=5,aspect=1.5)"
      ]
    },
    {
      "cell_type": "code",
      "execution_count": null,
      "metadata": {},
      "outputs": [],
      "source": []
    },
    {
      "cell_type": "code",
      "execution_count": 18,
      "metadata": {
        "colab": {
          "base_uri": "https://localhost:8080/",
          "height": 359
        },
        "id": "31zcAlRMT89d",
        "outputId": "13167125-7a73-4924-cc06-7b53019fcc01"
      },
      "outputs": [
        {
          "data": {
            "image/png": "[encoded data removed]",
            "text/plain": [
              "<Figure size 864x360 with 1 Axes>"
            ]
          },
          "metadata": {
            "needs_background": "light"
          },
          "output_type": "display_data"
        }
      ],
      "source": [
        "plt.subplots(figsize=(12,5))\n",
        "ax=sns.barplot(x='Year',y='Price',data=df,hue='Fuel_type')\n",
        "ax.set_xticklabels(ax.get_xticklabels(),rotation=40,ha='right')\n",
        "plt.show()"
      ]
    },
    {
      "cell_type": "markdown",
      "metadata": {
        "id": "I5a3La3FSZFy"
      },
      "source": [
        "# ML"
      ]
    },
    {
      "cell_type": "code",
      "execution_count": 31,
      "metadata": {
        "id": "DnV17pGLUOv1"
      },
      "outputs": [],
      "source": [
        "X=df[['Year','Kms driven','Fuel_type']]\n",
        "y=df['Price']"
      ]
    },
    {
      "cell_type": "code",
      "execution_count": 32,
      "metadata": {
        "id": "03ntZVSAV6SB"
      },
      "outputs": [],
      "source": [
        "from sklearn.preprocessing import LabelEncoder\n",
        "encoder=LabelEncoder()\n",
        "df['Fuel_type']=encoder.fit_transform(df['Fuel_type'].values)"
      ]
    },
    {
      "cell_type": "code",
      "execution_count": 29,
      "metadata": {
        "colab": {
          "base_uri": "https://localhost:8080/"
        },
        "id": "myrgDvCnkqYd",
        "outputId": "2d6ed45b-4c47-4925-a77e-515821376362"
      },
      "outputs": [
        {
          "data": {
            "text/plain": [
              "1      0\n",
              "15     0\n",
              "215    0\n",
              "222    0\n",
              "302    1\n",
              "364    0\n",
              "381    0\n",
              "382    0\n",
              "387    0\n",
              "427    0\n",
              "470    1\n",
              "485    0\n",
              "577    0\n",
              "702    1\n",
              "721    1\n",
              "738    1\n",
              "762    1\n",
              "Name: Fuel_type, dtype: int64"
            ]
          },
          "execution_count": 29,
          "metadata": {},
          "output_type": "execute_result"
        }
      ],
      "source": [
        "df['Fuel_type']"
      ]
    },
    {
      "cell_type": "code",
      "execution_count": 34,
      "metadata": {
        "id": "1NKfQqWhSbk4"
      },
      "outputs": [],
      "source": [
        "x_train,x_test,y_train,y_test=train_test_split(X,y,test_size=0.2,random_state=12)"
      ]
    },
    {
      "cell_type": "code",
      "execution_count": 30,
      "metadata": {
        "colab": {
          "base_uri": "https://localhost:8080/"
        },
        "id": "ep2LegI3VzZa",
        "outputId": "43929b39-8952-4fcd-e5e8-1bbdd70dff8a"
      },
      "outputs": [
        {
          "name": "stdout",
          "output_type": "stream",
          "text": [
            "[  22826.98315412    -276.82994094 -103754.90438106]\n",
            "-45365992.71235171\n"
          ]
        }
      ],
      "source": [
        "from sklearn import linear_model\n",
        "MLR_model=linear_model.LinearRegression()\n",
        "x_train=np.asanyarray(df[['Year','Kms driven','Fuel_type']])\n",
        "y_train=np.asanyarray(df['Price'])\n",
        "MLR_model.fit(x_train,y_train)\n",
        "\n",
        "print(MLR_model.coef_)\n",
        "print(MLR_model.intercept_)"
      ]
    },
    {
      "cell_type": "code",
      "execution_count": 23,
      "metadata": {
        "colab": {
          "base_uri": "https://localhost:8080/"
        },
        "id": "mVkXeeCZUnz4",
        "outputId": "9253bb2a-1390-42d8-c7c6-41596f3d84bd"
      },
      "outputs": [
        {
          "name": "stdout",
          "output_type": "stream",
          "text": [
            "theta1=-45365992.71235171\n",
            "theta0=22826.98315412094\n"
          ]
        }
      ],
      "source": [
        "liner_regr_model=LinearRegression()\n",
        "liner_regr_model.fit(x_train,y_train)\n",
        "theta0=liner_regr_model.coef_[0]\n",
        "theta1=liner_regr_model.intercept_\n",
        "print (f'{theta1=}')\n",
        "print (f'{theta0=}')"
      ]
    },
    {
      "cell_type": "code",
      "execution_count": 26,
      "metadata": {
        "colab": {
          "base_uri": "https://localhost:8080/",
          "height": 508
        },
        "id": "8XjeO9EmXmFl",
        "outputId": "5d22c898-bfb7-4917-eb8c-58ec8054c7e8"
      },
      "outputs": [
        {
          "data": {
            "image/png": "[encoded data removed]",
            "text/plain": [
              "<Figure size 1152x576 with 1 Axes>"
            ]
          },
          "metadata": {
            "needs_background": "light"
          },
          "output_type": "display_data"
        }
      ],
      "source": [
        "plt.figure(figsize=(16,8))\n",
        "sns.scatterplot(data=df,x='Year',y='Price')\n",
        "plt.plot(x_train,theta1*x_train+theta0,'-r')\n",
        "plt.show()"
      ]
    },
    {
      "cell_type": "code",
      "execution_count": 35,
      "metadata": {
        "colab": {
          "base_uri": "https://localhost:8080/"
        },
        "id": "aJTTbFSoZIKF",
        "outputId": "8886d209-bff2-460a-8e8d-746a78c8bf51"
      },
      "outputs": [
        {
          "name": "stderr",
          "output_type": "stream",
          "text": [
            "/usr/local/lib/python3.9/dist-packages/sklearn/base.py:432: UserWarning: X has feature names, but LinearRegression was fitted without feature names\n",
            "  warnings.warn(\n"
          ]
        },
        {
          "data": {
            "text/plain": [
              "array([705076.47936182, 561897.39373962, 638637.29353523, 617931.37143741])"
            ]
          },
          "execution_count": 35,
          "metadata": {},
          "output_type": "execute_result"
        }
      ],
      "source": [
        "y_predict=MLR_model.predict(x_test)\n",
        "y_predict"
      ]
    },
    {
      "cell_type": "code",
      "execution_count": 37,
      "metadata": {
        "colab": {
          "base_uri": "https://localhost:8080/"
        },
        "id": "EOQjZercnkH1",
        "outputId": "37eef3f9-90e6-41d6-b7f4-67e7b1e04bbc"
      },
      "outputs": [
        {
          "data": {
            "text/plain": [
              "705076.4793618172"
            ]
          },
          "execution_count": 37,
          "metadata": {},
          "output_type": "execute_result"
        }
      ],
      "source": [
        "y_predict[0].np.asa"
      ]
    },
    {
      "cell_type": "markdown",
      "metadata": {
        "id": "X2LfD0h6nEur"
      },
      "source": [
        "Errors"
      ]
    },
    {
      "cell_type": "code",
      "execution_count": 47,
      "metadata": {
        "colab": {
          "base_uri": "https://localhost:8080/"
        },
        "id": "e07HsRBvnEOr",
        "outputId": "1488b573-6cec-481e-e6bb-f271b549a5e5"
      },
      "outputs": [
        {
          "name": "stdout",
          "output_type": "stream",
          "text": [
            "MASE=416652.60516239144\n",
            "MSE=199127964786.39868\n"
          ]
        }
      ],
      "source": [
        "MASE=mean_absolute_error(y_predict,y_test)\n",
        "MSE=mean_squared_error(y_predict,y_test)\n",
        "print(f'{MASE=}')\n",
        "print(f'{MSE=}')"
      ]
    }
  ],
  "metadata": {
    "colab": {
      "provenance": []
    },
    "kernelspec": {
      "display_name": "Python 3",
      "name": "python3"
    },
    "language_info": {
      "name": "python"
    }
  },
  "nbformat": 4,
  "nbformat_minor": 0
}
