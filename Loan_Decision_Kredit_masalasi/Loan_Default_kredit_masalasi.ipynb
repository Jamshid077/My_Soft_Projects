{
  "nbformat": 4,
  "nbformat_minor": 0,
  "metadata": {
    "colab": {
      "private_outputs": true,
      "provenance": []
    },
    "kernelspec": {
      "name": "python3",
      "display_name": "Python 3"
    },
    "language_info": {
      "name": "python"
    },
    "gpuClass": "standard",
    "accelerator": "GPU"
  },
  "cells": [
    {
      "cell_type": "markdown",
      "source": [],
      "metadata": {
        "id": "m6hrHlcyIvxt"
      }
    },
    {
      "cell_type": "code",
      "execution_count": null,
      "metadata": {
        "id": "_nVm2v3nkOtQ"
      },
      "outputs": [],
      "source": [
        "from fastai.tabular.all import  *\n",
        "\n",
        "#path\n",
        "path=Path('.')\n",
        "\n",
        "# dataloaders \n",
        "dls=TabularDataLoaders.from_csv(path/'Loan_Default.csv',path=path,bs=64,y_names='Status',\n",
        "                                cat_name=['loan_limit','Gender','approv_in_adv','loan_type','loan_purpose','Credit_Worthiness','open_credit','business_or_commercial','interest_only'],\n",
        "                                cont_names=['loan_amount','rate_of_interest','Interest_rate_spread','Upfront_charges','term','property_value','income','Credit_Score','LTV','dtir1'],\n",
        "                                procs=[Categorify,FillMissing,Normalize])\n",
        "# Train\n",
        "learn=tabular_learner(dls,metrics=accuracy)\n",
        "\n",
        "learn.fit_one_cycle(2)"
      ]
    },
    {
      "cell_type": "code",
      "source": [
        "learn.show_results(max_n=64)"
      ],
      "metadata": {
        "id": "pclvBH6DwP21"
      },
      "execution_count": null,
      "outputs": []
    },
    {
      "cell_type": "code",
      "source": [
        "import pandas as pd\n",
        "df=pd.read_csv(path/'/content/Loan_Default.csv')\n",
        "df"
      ],
      "metadata": {
        "id": "uxwuUDEcynDZ"
      },
      "execution_count": null,
      "outputs": []
    },
    {
      "cell_type": "markdown",
      "source": [],
      "metadata": {
        "id": "FFN-DBfoys6A"
      }
    },
    {
      "cell_type": "code",
      "source": [
        "df.iloc[2:5]"
      ],
      "metadata": {
        "id": "fXUtdDqaznsw"
      },
      "execution_count": null,
      "outputs": []
    },
    {
      "cell_type": "code",
      "source": [
        "df.info()"
      ],
      "metadata": {
        "id": "si8oRcbmzwX2"
      },
      "execution_count": null,
      "outputs": []
    },
    {
      "cell_type": "code",
      "source": [],
      "metadata": {
        "id": "90GYramcxNKE"
      },
      "execution_count": null,
      "outputs": []
    },
    {
      "cell_type": "code",
      "source": [],
      "metadata": {
        "id": "jROqecgOyO4E"
      },
      "execution_count": null,
      "outputs": []
    }
  ]
}