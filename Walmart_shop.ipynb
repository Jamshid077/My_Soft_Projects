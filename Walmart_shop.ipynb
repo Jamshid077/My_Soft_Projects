{
  "nbformat": 4,
  "nbformat_minor": 0,
  "metadata": {
    "colab": {
      "private_outputs": true,
      "provenance": []
    },
    "kernelspec": {
      "name": "python3",
      "display_name": "Python 3"
    },
    "language_info": {
      "name": "python"
    },
    "accelerator": "GPU",
    "gpuClass": "standard"
  },
  "cells": [
    {
      "cell_type": "code",
      "execution_count": null,
      "metadata": {
        "id": "jd6oCo-fTOcO"
      },
      "outputs": [],
      "source": [
        "import numpy as np\n",
        "import pandas as pd\n",
        "import matplotlib.pyplot as plt\n",
        "import seaborn as sns\n",
        "from sklearn.impute import SimpleImputer\n",
        "%matplotlib inline"
      ]
    },
    {
      "cell_type": "code",
      "source": [
        "df=pd.read_csv('/content/Walmart.csv')\n",
        "df.sample(15)"
      ],
      "metadata": {
        "id": "XSqKQ2MHWPi9"
      },
      "execution_count": null,
      "outputs": []
    },
    {
      "cell_type": "markdown",
      "source": [
        "# Data Processing "
      ],
      "metadata": {
        "id": "a-eigH5n2K64"
      }
    },
    {
      "cell_type": "code",
      "source": [
        "df.describe()"
      ],
      "metadata": {
        "id": "gvynvOefWiOe"
      },
      "execution_count": null,
      "outputs": []
    },
    {
      "cell_type": "code",
      "source": [
        "df.info()"
      ],
      "metadata": {
        "id": "L-MDyNxIW3yi"
      },
      "execution_count": null,
      "outputs": []
    },
    {
      "cell_type": "code",
      "source": [
        "df.isnull().sum()"
      ],
      "metadata": {
        "id": "lizHr27p2E6R"
      },
      "execution_count": null,
      "outputs": []
    },
    {
      "cell_type": "code",
      "source": [
        "df.shape"
      ],
      "metadata": {
        "id": "m7smH-ob2aj_"
      },
      "execution_count": null,
      "outputs": []
    },
    {
      "cell_type": "code",
      "source": [
        "df['Date']=pd.to_datetime(df['Date'])\n",
        "df['Day']=df['Date'].dt.weekday\n",
        "df['Week']=df['Date'].dt.week\n",
        "df['Month'] = df['Date'].dt.month\n",
        "df['Year']  = df['Date'].dt.year\n",
        "df.drop('Date',axis=1,inplace=True)\n",
        "df.head()"
      ],
      "metadata": {
        "id": "fhPDxg1m2jT2"
      },
      "execution_count": null,
      "outputs": []
    },
    {
      "cell_type": "code",
      "source": [
        "for i in df.columns:\n",
        "  print(f\"{i}:{df[i].nunique()}\")"
      ],
      "metadata": {
        "id": "I-pHr_-K3ef3"
      },
      "execution_count": null,
      "outputs": []
    },
    {
      "cell_type": "markdown",
      "source": [
        "# Data Vizualization"
      ],
      "metadata": {
        "id": "1-nZCgZb4Qhq"
      }
    },
    {
      "cell_type": "code",
      "source": [
        "plt.pie(df['Year'].value_counts().values,labels=df['Year'].value_counts().index,\n",
        "        autopct='%1.2f%%',shadow=True,colors=['gold','red','green'])\n",
        "plt.title('Yillar boyicha baholar')\n",
        "plt.show()"
      ],
      "metadata": {
        "id": "7XgPqOUX36-u"
      },
      "execution_count": null,
      "outputs": []
    },
    {
      "cell_type": "code",
      "source": [
        "df.columns"
      ],
      "metadata": {
        "id": "VamDi4_M5ytU"
      },
      "execution_count": null,
      "outputs": []
    },
    {
      "cell_type": "code",
      "source": [
        "df2=df.copy()"
      ],
      "metadata": {
        "id": "_VGHGYq57DIp"
      },
      "execution_count": null,
      "outputs": []
    },
    {
      "cell_type": "code",
      "source": [
        "days = {0:'Sunday',1:'Monday',2:'Tuesday',3:'Wednesday',4:'Thursday',5: 'Friday',6:'Saturday'}\n",
        "df2['Day'] = df2['Day'].map(days)\n",
        "months={1:'January',2:'February',3:'March',4:'April',5:'May',6:'June',7:'July',8:'August',9:'September',10:'October',11:'Novemenber',12:'December'}\n",
        "df2['Month']= df2['Month'].map(months)\n",
        "df2.head()"
      ],
      "metadata": {
        "id": "lt4i9tTs7AWs"
      },
      "execution_count": null,
      "outputs": []
    },
    {
      "cell_type": "code",
      "source": [
        "plt.figure(figsize=(15,5))\n",
        "plt.subplot(1, 3, 2)\n",
        "plt.pie(df2['Day'].value_counts().values, labels =df2['Day'].value_counts().index,\n",
        "autopct = '%1.2f%%', shadow=True,colors=[\"Orange\",'tomato', 'cornflowerblue', 'gold', 'orchid', 'green',\"#77BFE2\"]) \n",
        "plt.title('Hafta kunlari boyicha Distribution')\n",
        "plt.grid()\n",
        "\n",
        "plt.subplot(1, 3, 1)\n",
        "plt.pie(df2['Month'].value_counts().values, labels =df2['Month'].value_counts().index,\n",
        "autopct = '%1.2f%%',startangle=90, shadow=True,colors=sns.color_palette('Set2'))\n",
        "plt.title('Oylar boyicha Distribution')\n",
        "plt.grid()\n",
        "\n",
        "plt.subplot(1, 3, 3)\n",
        "df3 = df2.groupby('Holiday_Flag')['Weekly_Sales'].sum().reset_index()\n",
        "plt.pie(df2['Year'].value_counts().values, labels =df2['Year'].value_counts().index,\n",
        "autopct = '%1.2f%%',startangle=90, shadow=True,colors=sns.color_palette('Set2'),labeldistance=1.1)  \n",
        "plt.title('Yillar boyicha  Distribution')\n",
        "plt.grid()\n",
        "\n",
        "\n",
        "plt.show()"
      ],
      "metadata": {
        "id": "gjL329fa7WTx"
      },
      "execution_count": null,
      "outputs": []
    },
    {
      "cell_type": "code",
      "source": [
        "plt.figure(figsize=(15,20))\n",
        "monthly_sales=pd.pivot_table(df2,index='Month',columns='Year',values='Weekly_Sales')\n",
        "monthly_sales.plot()\n",
        "plt.show('Yillar boyicha sotuv grafigi')\n",
        "plt.show()"
      ],
      "metadata": {
        "id": "DnUxrfLh8BFE"
      },
      "execution_count": null,
      "outputs": []
    },
    {
      "cell_type": "code",
      "source": [
        "print('Minimum savdo narxi:',df2.groupby('Store')['Weekly_Sales'].sum().min())\n",
        "print('Maximum savdo narxi:',df2.groupby('Store')['Weekly_Sales'].sum().max())"
      ],
      "metadata": {
        "id": "P48Z-I4_9s9z"
      },
      "execution_count": null,
      "outputs": []
    },
    {
      "cell_type": "code",
      "source": [
        "sns.pairplot(df2,hue='Holiday_Flag')\n",
        "plt.title('Barcha columns boyicha normal haftalik bayramlari ')"
      ],
      "metadata": {
        "id": "RQ0iLb0R-6mL"
      },
      "execution_count": null,
      "outputs": []
    },
    {
      "cell_type": "code",
      "source": [
        "plt.figure(figsize=(20,10))\n",
        "sns.heatmap(df2.corr(),annot=True)\n",
        "plt.title('Correlation Matrix')\n",
        "plt.show()"
      ],
      "metadata": {
        "id": "0iOxlmesBAG9"
      },
      "execution_count": null,
      "outputs": []
    },
    {
      "cell_type": "markdown",
      "source": [
        "# Model Building "
      ],
      "metadata": {
        "id": "00a0CvOzBxet"
      }
    },
    {
      "cell_type": "code",
      "source": [
        "from sklearn.neighbors import KNeighborsRegressor\n",
        "#from sklearn.naive_bayes import GaussianNB\n",
        "from sklearn.ensemble import RandomForestRegressor\n",
        "from sklearn.linear_model import LinearRegression,Lasso,Ridge,ElasticNet\n",
        "from sklearn.linear_model import LassoCV ,RidgeCV , ElasticNetCV\n",
        "from sklearn.tree import DecisionTreeRegressor\n",
        "from sklearn.ensemble import GradientBoostingRegressor\n",
        "from sklearn.metrics import *\n",
        "from sklearn.model_selection import cross_val_score"
      ],
      "metadata": {
        "id": "oMUPOLKdDVFx"
      },
      "execution_count": null,
      "outputs": []
    },
    {
      "cell_type": "code",
      "source": [
        "x=df.drop(['Weekly_Sales'],axis=1)\n",
        "y=df['Weekly_Sales']"
      ],
      "metadata": {
        "id": "C-ll8CtJBn7p"
      },
      "execution_count": null,
      "outputs": []
    },
    {
      "cell_type": "code",
      "source": [
        "from sklearn.preprocessing import StandardScaler\n",
        "st=StandardScaler()\n",
        "x_scalled=st.fit_transform(x)"
      ],
      "metadata": {
        "id": "YVlGB84VCD2w"
      },
      "execution_count": null,
      "outputs": []
    },
    {
      "cell_type": "code",
      "source": [
        "from sklearn.model_selection import  train_test_split\n",
        "x_train,x_test,y_train,y_test=train_test_split(x_scalled,y,test_size=0.2,random_state=42)\n"
      ],
      "metadata": {
        "id": "iqGKv45_CpqX"
      },
      "execution_count": null,
      "outputs": []
    },
    {
      "cell_type": "code",
      "source": [
        "def model(y_test,y_train,x_test,x_train,model):\n",
        "    \n",
        "    model1 = model()\n",
        "    model1.fit(x_train,y_train)\n",
        "    y_pred = model1.predict(x_test)\n",
        "    r2_score(y_test,y_pred)\n",
        "    print('-----------------')\n",
        "    print(model)\n",
        "    print('-----------------')\n",
        "    print(f'MSE: {mean_squared_error(y_test,y_pred)}')\n",
        "    print(f'MAE: {mean_absolute_error(y_test,y_pred)}')\n",
        "    print(f'R2 : {round(r2_score(y_test,y_pred)*100,2)} %')"
      ],
      "metadata": {
        "id": "hOKP6-xUDQhG"
      },
      "execution_count": null,
      "outputs": []
    },
    {
      "cell_type": "code",
      "source": [
        "x = [model(y_test,y_train,x_test,x_train,i) for i in [LinearRegression,Lasso,Ridge,ElasticNet,RandomForestRegressor,DecisionTreeRegressor,KNeighborsRegressor,GradientBoostingRegressor]]\n",
        "x"
      ],
      "metadata": {
        "id": "aqPW74GfDdZI"
      },
      "execution_count": null,
      "outputs": []
    },
    {
      "cell_type": "markdown",
      "source": [
        "# Oqitilgan modelni yuklab olamiz"
      ],
      "metadata": {
        "id": "RD4v-MClD7bG"
      }
    },
    {
      "cell_type": "code",
      "source": [
        "import fastai\n",
        "import torch\n"
      ],
      "metadata": {
        "id": "78o_ULk5Dr6v"
      },
      "execution_count": null,
      "outputs": []
    },
    {
      "cell_type": "code",
      "source": [],
      "metadata": {
        "id": "mHFeWzs0EFiN"
      },
      "execution_count": null,
      "outputs": []
    }
  ]
}