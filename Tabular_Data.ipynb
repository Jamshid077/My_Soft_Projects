{
  "nbformat": 4,
  "nbformat_minor": 0,
  "metadata": {
    "colab": {
      "private_outputs": true,
      "provenance": []
    },
    "kernelspec": {
      "name": "python3",
      "display_name": "Python 3"
    },
    "language_info": {
      "name": "python"
    },
    "accelerator": "GPU",
    "gpuClass": "standard"
  },
  "cells": [
    {
      "cell_type": "code",
      "execution_count": null,
      "metadata": {
        "id": "2yToWJDP3lpi"
      },
      "outputs": [],
      "source": [
        "import numpy as np\n",
        "import pandas as pd\n"
      ]
    },
    {
      "cell_type": "markdown",
      "source": [
        "## For the link Data set\n",
        "[adult.*data*](https://archive.ics.uci.edu/ml/datasets/Adult)\n"
      ],
      "metadata": {
        "id": "z1MIVEL0CASU"
      }
    },
    {
      "cell_type": "code",
      "source": [
        "from fastai.tabular.all import *\n",
        "\n",
        "#dataset\n",
        "path=untar_data(URLs.ADULT_SAMPLE)\n",
        "# DATA LOADERS\n",
        "dls=TabularDataLoaders.from_csv(path/'adult.csv',path=path,bs=64,y_names='salary',skipinitialspace=False,\n",
        "                                cat_names=['workclass','education','marital-status','occupation','relationship','race','sex'],\n",
        "                                cont_names=['age','fnlwgt','education-num','capital-gain','capital-loss','hours-per-week'],\n",
        "                                procs=[Categorify,FillMissing,Normalize])\n",
        "# O'qitish  Training \n",
        "learn=tabular_learner(dls,metrics=accuracy)\n",
        "learn.fit_one_cycle(4)\n",
        "\n"
      ],
      "metadata": {
        "id": "0q16tGWW5sBa"
      },
      "execution_count": null,
      "outputs": []
    },
    {
      "cell_type": "code",
      "source": [
        "df=pd.read_csv(path/'adult.csv')\n",
        "df"
      ],
      "metadata": {
        "id": "Y3urTWFv5T3u"
      },
      "execution_count": null,
      "outputs": []
    },
    {
      "cell_type": "code",
      "source": [
        "# Test\n",
        "row,pred,probs=learn.predict(df.iloc[2])\n",
        "pred.item(),probs"
      ],
      "metadata": {
        "id": "6v4obYVT-qJV"
      },
      "execution_count": null,
      "outputs": []
    },
    {
      "cell_type": "code",
      "source": [
        "row.show()"
      ],
      "metadata": {
        "id": "qSEiZlai-0Sw"
      },
      "execution_count": null,
      "outputs": []
    },
    {
      "cell_type": "code",
      "source": [
        "df['occupation'][0]"
      ],
      "metadata": {
        "id": "OvCymN1o_T_X"
      },
      "execution_count": null,
      "outputs": []
    }
  ]
}