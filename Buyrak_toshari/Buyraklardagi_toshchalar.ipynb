{
  "nbformat": 4,
  "nbformat_minor": 0,
  "metadata": {
    "colab": {
      "private_outputs": true,
      "provenance": []
    },
    "kernelspec": {
      "name": "python3",
      "display_name": "Python 3"
    },
    "language_info": {
      "name": "python"
    },
    "accelerator": "GPU",
    "gpuClass": "standard"
  },
  "cells": [
    {
      "cell_type": "code",
      "execution_count": null,
      "metadata": {
        "id": "9sGn0vPyc3En"
      },
      "outputs": [],
      "source": [
        "import numpy as np \n",
        "import pandas as pd \n"
      ]
    },
    {
      "cell_type": "code",
      "source": [
        "df=pd.read_csv('/content/kidney-stone-dataset.csv')\n",
        "df.head()"
      ],
      "metadata": {
        "id": "5iQt-1Vnf6sQ"
      },
      "execution_count": null,
      "outputs": []
    },
    {
      "cell_type": "code",
      "source": [
        "df.isnull().sum()"
      ],
      "metadata": {
        "id": "O9gEQ5gzgfKE"
      },
      "execution_count": null,
      "outputs": []
    },
    {
      "cell_type": "code",
      "source": [
        "df.describe()"
      ],
      "metadata": {
        "id": "VFluwLZOglFY"
      },
      "execution_count": null,
      "outputs": []
    },
    {
      "cell_type": "markdown",
      "source": [
        "Removing unre "
      ],
      "metadata": {
        "id": "XY4Y-sRriT50"
      }
    },
    {
      "cell_type": "code",
      "source": [
        "df.drop('Unnamed: 0',axis=1,inplace=True)\n",
        "df.sample(3)"
      ],
      "metadata": {
        "id": "-QluntBNhIHn"
      },
      "execution_count": null,
      "outputs": []
    },
    {
      "cell_type": "code",
      "source": [
        "import matplotlib.pyplot as plt\n",
        "import seaborn as sns \n"
      ],
      "metadata": {
        "id": "W8hILkjThIBS"
      },
      "execution_count": null,
      "outputs": []
    },
    {
      "cell_type": "code",
      "source": [
        "df['target'].unique()\n"
      ],
      "metadata": {
        "id": "F40uzpM7oln0"
      },
      "execution_count": null,
      "outputs": []
    },
    {
      "cell_type": "code",
      "source": [
        "df_0=df[df['target']==0]\n",
        "df_0.shape"
      ],
      "metadata": {
        "id": "Kul9h1iypors"
      },
      "execution_count": null,
      "outputs": []
    },
    {
      "cell_type": "code",
      "source": [
        "sns.pairplot(df)\n",
        "plt.show()"
      ],
      "metadata": {
        "id": "tCyCfYfvvwl5"
      },
      "execution_count": null,
      "outputs": []
    },
    {
      "cell_type": "markdown",
      "source": [
        "# Model building "
      ],
      "metadata": {
        "id": "nGWiwMKcz_61"
      }
    },
    {
      "cell_type": "code",
      "source": [
        "from sklearn.neighbors import KNeighborsRegressor\n",
        "#from sklearn.naive_bayes import GaussianNB\n",
        "from sklearn.ensemble import RandomForestRegressor\n",
        "from sklearn.linear_model import LinearRegression,Lasso,Ridge,ElasticNet\n",
        "from sklearn.linear_model import LassoCV ,RidgeCV , ElasticNetCV\n",
        "from sklearn.tree import DecisionTreeRegressor\n",
        "from sklearn.ensemble import GradientBoostingRegressor\n",
        "from sklearn.metrics import *\n",
        "from sklearn.model_selection import cross_val_score"
      ],
      "metadata": {
        "id": "NpJnBuL167ml"
      },
      "execution_count": null,
      "outputs": []
    },
    {
      "cell_type": "code",
      "source": [
        "from sklearn.ensemble import RandomForestClassifier,BaggingClassifier\n",
        "from sklearn.tree import DecisionTreeClassifier\n",
        "from sklearn.svm import SVC\n",
        "from sklearn.linear_model import LogisticRegression,Lasso,RidgeClassifier\n",
        "from sklearn.model_selection import train_test_split,cross_val_score\n",
        "import warnings\n",
        "warnings.filterwarnings(\"ignore\")"
      ],
      "metadata": {
        "id": "i9tk_1y9z99h"
      },
      "execution_count": null,
      "outputs": []
    },
    {
      "cell_type": "code",
      "source": [
        "from sklearn.metrics import mean_absolute_error,mean_squared_error\n",
        "from sklearn.model_selection import cross_val_score"
      ],
      "metadata": {
        "id": "rJUukHyv6jp0"
      },
      "execution_count": null,
      "outputs": []
    },
    {
      "cell_type": "code",
      "source": [
        "x = df.drop('target',axis=1)\n",
        "y = df['target']"
      ],
      "metadata": {
        "id": "BL-LAvie0JzD"
      },
      "execution_count": null,
      "outputs": []
    },
    {
      "cell_type": "code",
      "source": [
        "from sklearn.preprocessing import StandardScaler\n",
        "st=StandardScaler()\n",
        "x_scalled=st.fit_transform(x)"
      ],
      "metadata": {
        "id": "HwX-Ktdu1w8J"
      },
      "execution_count": null,
      "outputs": []
    },
    {
      "cell_type": "code",
      "source": [
        "from sklearn.model_selection import  train_test_split\n",
        "x_train,x_test,y_train,y_test=train_test_split(x_scalled,y,test_size=0.2,random_state=42)\n"
      ],
      "metadata": {
        "id": "H6WjPe_l1FDD"
      },
      "execution_count": null,
      "outputs": []
    },
    {
      "cell_type": "code",
      "source": [
        "def model(y_test,y_train,x_test,x_train,model):\n",
        "    \n",
        "    model1 = model()\n",
        "    model1.fit(x_train,y_train)\n",
        "    y_pred = model1.predict(x_test)\n",
        "    r2_score(y_test,y_pred)\n",
        "    print('-----------------')\n",
        "    print(model)\n",
        "    print('-----------------')\n",
        "    print(f'MSE: {mean_squared_error(y_test,y_pred)}')\n",
        "    print(f'MAE: {mean_absolute_error(y_test,y_pred)}')\n",
        "    print(f'R2 : {round(r2_score(y_test,y_pred)*100,2)} %')"
      ],
      "metadata": {
        "id": "BfjrGeDO2xFk"
      },
      "execution_count": null,
      "outputs": []
    },
    {
      "cell_type": "code",
      "source": [
        "x = [model(y_test,y_train,x_test,x_train,i) for i in [LinearRegression,Lasso,Ridge,ElasticNet,RandomForestRegressor,DecisionTreeRegressor,KNeighborsRegressor,GradientBoostingRegressor]]\n",
        "x"
      ],
      "metadata": {
        "id": "87d5fHh42_wI"
      },
      "execution_count": null,
      "outputs": []
    },
    {
      "cell_type": "code",
      "source": [
        "X = df.drop('target',axis=1)\n",
        "y = df['target']\n",
        "algos = [RandomForestClassifier(),BaggingClassifier(),DecisionTreeClassifier(),SVC(),LogisticRegression(),Lasso(),RidgeClassifier()]\n",
        "for algo in algos:\n",
        "    cross_score = cross_val_score(algo,X,y)\n",
        "    print(algo,cross_score,\"Average\",sum(cross_score)/len(cross_score))\n"
      ],
      "metadata": {
        "id": "gwDDry0M3VlX"
      },
      "execution_count": null,
      "outputs": []
    },
    {
      "cell_type": "markdown",
      "source": [
        "# Final model "
      ],
      "metadata": {
        "id": "w-Rd5Gve0SOw"
      }
    },
    {
      "cell_type": "code",
      "source": [
        "model=RandomForestClassifier()\n",
        "model.fit(x_train,y_train)\n",
        "model.score(x_train,y_train)"
      ],
      "metadata": {
        "id": "NNiVy4UB0RwW"
      },
      "execution_count": null,
      "outputs": []
    },
    {
      "cell_type": "code",
      "source": [
        "model.score(x_test,y_test)"
      ],
      "metadata": {
        "id": "imWgNC5d0aED"
      },
      "execution_count": null,
      "outputs": []
    }
  ]
}