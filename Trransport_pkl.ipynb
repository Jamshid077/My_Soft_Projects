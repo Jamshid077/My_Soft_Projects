{
  "cells": [
    {
      "cell_type": "markdown",
      "metadata": {
        "id": "view-in-github",
        "colab_type": "text"
      },
      "source": [
        "<a href=\"https://colab.research.google.com/github/Jamshidbek077/My_Soft_Projects/blob/master/Trransport_pkl.ipynb\" target=\"_parent\"><img src=\"https://colab.research.google.com/assets/colab-badge.svg\" alt=\"Open In Colab\"/></a>"
      ]
    },
    {
      "cell_type": "code",
      "execution_count": 1,
      "metadata": {
        "colab": {
          "base_uri": "https://localhost:8080/"
        },
        "id": "UepINMRFmSME",
        "outputId": "9434960e-b644-47d7-aa47-a95e7b241973"
      },
      "outputs": [
        {
          "output_type": "execute_result",
          "data": {
            "text/plain": [
              "True"
            ]
          },
          "metadata": {},
          "execution_count": 1
        }
      ],
      "source": [
        "import torch\n",
        "torch.cuda.is_available()"
      ]
    },
    {
      "cell_type": "code",
      "execution_count": 2,
      "metadata": {
        "colab": {
          "base_uri": "https://localhost:8080/",
          "height": 35
        },
        "id": "a0pzmeRqe3os",
        "outputId": "bfd80878-a1e2-4c0a-a259-f5dc146711a8"
      },
      "outputs": [
        {
          "output_type": "execute_result",
          "data": {
            "text/plain": [
              "'2.7.12'"
            ],
            "application/vnd.google.colaboratory.intrinsic+json": {
              "type": "string"
            }
          },
          "metadata": {},
          "execution_count": 2
        }
      ],
      "source": [
        "import fastai\n",
        "fastai.__version__"
      ]
    },
    {
      "cell_type": "code",
      "source": [
        "pip install fastai==2.5.3"
      ],
      "metadata": {
        "colab": {
          "base_uri": "https://localhost:8080/"
        },
        "id": "j4pc0S3Z-kti",
        "outputId": "16fd4259-6fe3-4210-dd3b-7d0aaec976ba"
      },
      "execution_count": 3,
      "outputs": [
        {
          "output_type": "stream",
          "name": "stdout",
          "text": [
            "Looking in indexes: https://pypi.org/simple, https://us-python.pkg.dev/colab-wheels/public/simple/\n",
            "Collecting fastai==2.5.3\n",
            "  Downloading fastai-2.5.3-py3-none-any.whl (189 kB)\n",
            "\u001b[2K     \u001b[90m━━━━━━━━━━━━━━━━━━━━━━━━━━━━━━━━━━━━━━\u001b[0m \u001b[32m189.5/189.5 kB\u001b[0m \u001b[31m10.5 MB/s\u001b[0m eta \u001b[36m0:00:00\u001b[0m\n",
            "\u001b[?25hRequirement already satisfied: pip in /usr/local/lib/python3.10/dist-packages (from fastai==2.5.3) (23.1.2)\n",
            "Requirement already satisfied: packaging in /usr/local/lib/python3.10/dist-packages (from fastai==2.5.3) (23.1)\n",
            "Requirement already satisfied: fastdownload<2,>=0.0.5 in /usr/local/lib/python3.10/dist-packages (from fastai==2.5.3) (0.0.7)\n",
            "Collecting fastcore<1.4,>=1.3.22 (from fastai==2.5.3)\n",
            "  Downloading fastcore-1.3.29-py3-none-any.whl (55 kB)\n",
            "\u001b[2K     \u001b[90m━━━━━━━━━━━━━━━━━━━━━━━━━━━━━━━━━━━━━━━━\u001b[0m \u001b[32m56.0/56.0 kB\u001b[0m \u001b[31m7.5 MB/s\u001b[0m eta \u001b[36m0:00:00\u001b[0m\n",
            "\u001b[?25hRequirement already satisfied: torchvision>=0.8.2 in /usr/local/lib/python3.10/dist-packages (from fastai==2.5.3) (0.15.1+cu118)\n",
            "Requirement already satisfied: matplotlib in /usr/local/lib/python3.10/dist-packages (from fastai==2.5.3) (3.7.1)\n",
            "Requirement already satisfied: pandas in /usr/local/lib/python3.10/dist-packages (from fastai==2.5.3) (1.5.3)\n",
            "Requirement already satisfied: requests in /usr/local/lib/python3.10/dist-packages (from fastai==2.5.3) (2.27.1)\n",
            "Requirement already satisfied: pyyaml in /usr/local/lib/python3.10/dist-packages (from fastai==2.5.3) (6.0)\n",
            "Requirement already satisfied: fastprogress>=0.2.4 in /usr/local/lib/python3.10/dist-packages (from fastai==2.5.3) (1.0.3)\n",
            "Requirement already satisfied: pillow>6.0.0 in /usr/local/lib/python3.10/dist-packages (from fastai==2.5.3) (8.4.0)\n",
            "Requirement already satisfied: scikit-learn in /usr/local/lib/python3.10/dist-packages (from fastai==2.5.3) (1.2.2)\n",
            "Requirement already satisfied: scipy in /usr/local/lib/python3.10/dist-packages (from fastai==2.5.3) (1.10.1)\n",
            "Requirement already satisfied: spacy<4 in /usr/local/lib/python3.10/dist-packages (from fastai==2.5.3) (3.5.2)\n",
            "INFO: pip is looking at multiple versions of fastai to determine which version is compatible with other requirements. This could take a while.\n",
            "\u001b[31mERROR: Could not find a version that satisfies the requirement torch<1.11,>=1.7.0 (from fastai) (from versions: 1.11.0, 1.12.0, 1.12.1, 1.13.0, 1.13.1, 2.0.0, 2.0.1)\u001b[0m\u001b[31m\n",
            "\u001b[0m\u001b[31mERROR: No matching distribution found for torch<1.11,>=1.7.0\u001b[0m\u001b[31m\n",
            "\u001b[0m"
          ]
        }
      ]
    },
    {
      "cell_type": "code",
      "source": [
        "pip install torch==1.10.0"
      ],
      "metadata": {
        "colab": {
          "base_uri": "https://localhost:8080/"
        },
        "id": "YFpvrXcj-wlG",
        "outputId": "7431dc82-4c4b-4d2f-d145-166d635eba22"
      },
      "execution_count": 4,
      "outputs": [
        {
          "output_type": "stream",
          "name": "stdout",
          "text": [
            "Looking in indexes: https://pypi.org/simple, https://us-python.pkg.dev/colab-wheels/public/simple/\n",
            "\u001b[31mERROR: Could not find a version that satisfies the requirement torch==1.10.0 (from versions: 1.11.0, 1.12.0, 1.12.1, 1.13.0, 1.13.1, 2.0.0, 2.0.1)\u001b[0m\u001b[31m\n",
            "\u001b[0m\u001b[31mERROR: No matching distribution found for torch==1.10.0\u001b[0m\u001b[31m\n",
            "\u001b[0m"
          ]
        }
      ]
    },
    {
      "cell_type": "code",
      "execution_count": 5,
      "metadata": {
        "id": "Nx0Ji2a9SKWR",
        "colab": {
          "base_uri": "https://localhost:8080/",
          "height": 35
        },
        "outputId": "95364e1b-622f-4bb6-af72-f4c5331a613d"
      },
      "outputs": [
        {
          "output_type": "execute_result",
          "data": {
            "text/plain": [
              "'2.0.0+cu118'"
            ],
            "application/vnd.google.colaboratory.intrinsic+json": {
              "type": "string"
            }
          },
          "metadata": {},
          "execution_count": 5
        }
      ],
      "source": [
        "torch.__version__"
      ]
    },
    {
      "cell_type": "code",
      "source": [
        "import torch \n",
        "import fastai \n",
        "print(f\"{torch.__version__},{fastai.__version__}\")"
      ],
      "metadata": {
        "colab": {
          "base_uri": "https://localhost:8080/"
        },
        "id": "Jt0QSs5p-FFx",
        "outputId": "4adb612a-97bb-4ddc-9b9e-a01e0878682d"
      },
      "execution_count": 6,
      "outputs": [
        {
          "output_type": "stream",
          "name": "stdout",
          "text": [
            "2.0.0+cu118,2.7.12\n"
          ]
        }
      ]
    },
    {
      "cell_type": "markdown",
      "metadata": {
        "id": "N-4hRRrtTXOT"
      },
      "source": [
        "# Birinchi modelimizni quramiz (rasm klassifikatsiyasi)"
      ]
    },
    {
      "cell_type": "code",
      "execution_count": 7,
      "metadata": {
        "colab": {
          "base_uri": "https://localhost:8080/"
        },
        "id": "Ce3LbreFTWvF",
        "outputId": "7d035539-b949-423c-8815-b539c4bdb82e"
      },
      "outputs": [
        {
          "output_type": "stream",
          "name": "stdout",
          "text": [
            "Cloning into 'OIDv4_ToolKit'...\n",
            "remote: Enumerating objects: 422, done.\u001b[K\n",
            "remote: Total 422 (delta 0), reused 0 (delta 0), pack-reused 422\u001b[K\n",
            "Receiving objects: 100% (422/422), 34.08 MiB | 25.97 MiB/s, done.\n",
            "Resolving deltas: 100% (146/146), done.\n",
            "Looking in indexes: https://pypi.org/simple, https://us-python.pkg.dev/colab-wheels/public/simple/\n",
            "Requirement already satisfied: pandas in /usr/local/lib/python3.10/dist-packages (from -r requirements.txt (line 1)) (1.5.3)\n",
            "Requirement already satisfied: numpy in /usr/local/lib/python3.10/dist-packages (from -r requirements.txt (line 2)) (1.22.4)\n",
            "Collecting awscli (from -r requirements.txt (line 3))\n",
            "  Downloading awscli-1.27.133-py3-none-any.whl (4.1 MB)\n",
            "\u001b[2K     \u001b[90m━━━━━━━━━━━━━━━━━━━━━━━━━━━━━━━━━━━━━━━━\u001b[0m \u001b[32m4.1/4.1 MB\u001b[0m \u001b[31m48.8 MB/s\u001b[0m eta \u001b[36m0:00:00\u001b[0m\n",
            "\u001b[?25hRequirement already satisfied: urllib3 in /usr/local/lib/python3.10/dist-packages (from -r requirements.txt (line 5)) (1.26.15)\n",
            "Requirement already satisfied: tqdm in /usr/local/lib/python3.10/dist-packages (from -r requirements.txt (line 7)) (4.65.0)\n",
            "Requirement already satisfied: opencv-python in /usr/local/lib/python3.10/dist-packages (from -r requirements.txt (line 9)) (4.7.0.72)\n",
            "Requirement already satisfied: python-dateutil>=2.8.1 in /usr/local/lib/python3.10/dist-packages (from pandas->-r requirements.txt (line 1)) (2.8.2)\n",
            "Requirement already satisfied: pytz>=2020.1 in /usr/local/lib/python3.10/dist-packages (from pandas->-r requirements.txt (line 1)) (2022.7.1)\n",
            "Collecting botocore==1.29.133 (from awscli->-r requirements.txt (line 3))\n",
            "  Downloading botocore-1.29.133-py3-none-any.whl (10.7 MB)\n",
            "\u001b[2K     \u001b[90m━━━━━━━━━━━━━━━━━━━━━━━━━━━━━━━━━━━━━━━━\u001b[0m \u001b[32m10.7/10.7 MB\u001b[0m \u001b[31m74.6 MB/s\u001b[0m eta \u001b[36m0:00:00\u001b[0m\n",
            "\u001b[?25hRequirement already satisfied: docutils<0.17,>=0.10 in /usr/local/lib/python3.10/dist-packages (from awscli->-r requirements.txt (line 3)) (0.16)\n",
            "Collecting s3transfer<0.7.0,>=0.6.0 (from awscli->-r requirements.txt (line 3))\n",
            "  Downloading s3transfer-0.6.1-py3-none-any.whl (79 kB)\n",
            "\u001b[2K     \u001b[90m━━━━━━━━━━━━━━━━━━━━━━━━━━━━━━━━━━━━━━━━\u001b[0m \u001b[32m79.8/79.8 kB\u001b[0m \u001b[31m11.4 MB/s\u001b[0m eta \u001b[36m0:00:00\u001b[0m\n",
            "\u001b[?25hCollecting PyYAML<5.5,>=3.10 (from awscli->-r requirements.txt (line 3))\n",
            "  Downloading PyYAML-5.4.1.tar.gz (175 kB)\n",
            "\u001b[2K     \u001b[90m━━━━━━━━━━━━━━━━━━━━━━━━━━━━━━━━━━━━━━\u001b[0m \u001b[32m175.1/175.1 kB\u001b[0m \u001b[31m23.6 MB/s\u001b[0m eta \u001b[36m0:00:00\u001b[0m\n",
            "\u001b[?25h  Installing build dependencies ... \u001b[?25l\u001b[?25hdone\n",
            "  Getting requirements to build wheel ... \u001b[?25l\u001b[?25hdone\n",
            "  Preparing metadata (pyproject.toml) ... \u001b[?25l\u001b[?25hdone\n",
            "Collecting colorama<0.4.5,>=0.2.5 (from awscli->-r requirements.txt (line 3))\n",
            "  Downloading colorama-0.4.4-py2.py3-none-any.whl (16 kB)\n",
            "Collecting rsa<4.8,>=3.1.2 (from awscli->-r requirements.txt (line 3))\n",
            "  Downloading rsa-4.7.2-py3-none-any.whl (34 kB)\n",
            "Collecting jmespath<2.0.0,>=0.7.1 (from botocore==1.29.133->awscli->-r requirements.txt (line 3))\n",
            "  Downloading jmespath-1.0.1-py3-none-any.whl (20 kB)\n",
            "Requirement already satisfied: six>=1.5 in /usr/local/lib/python3.10/dist-packages (from python-dateutil>=2.8.1->pandas->-r requirements.txt (line 1)) (1.16.0)\n",
            "Requirement already satisfied: pyasn1>=0.1.3 in /usr/local/lib/python3.10/dist-packages (from rsa<4.8,>=3.1.2->awscli->-r requirements.txt (line 3)) (0.5.0)\n",
            "Building wheels for collected packages: PyYAML\n",
            "  Building wheel for PyYAML (pyproject.toml) ... \u001b[?25l\u001b[?25hdone\n",
            "  Created wheel for PyYAML: filename=PyYAML-5.4.1-cp310-cp310-linux_x86_64.whl size=45658 sha256=9f3333141f3d88e3483a1a7ddac4ce48594c50766fe856a6b75f22e89cffe167\n",
            "  Stored in directory: /root/.cache/pip/wheels/c7/0d/22/696ee92245ad710f506eee79bb05c740d8abccd3ecdb778683\n",
            "Successfully built PyYAML\n",
            "Installing collected packages: rsa, PyYAML, jmespath, colorama, botocore, s3transfer, awscli\n",
            "  Attempting uninstall: rsa\n",
            "    Found existing installation: rsa 4.9\n",
            "    Uninstalling rsa-4.9:\n",
            "      Successfully uninstalled rsa-4.9\n",
            "  Attempting uninstall: PyYAML\n",
            "    Found existing installation: PyYAML 6.0\n",
            "    Uninstalling PyYAML-6.0:\n",
            "      Successfully uninstalled PyYAML-6.0\n",
            "Successfully installed PyYAML-5.4.1 awscli-1.27.133 botocore-1.29.133 colorama-0.4.4 jmespath-1.0.1 rsa-4.7.2 s3transfer-0.6.1\n"
          ]
        }
      ],
      "source": [
        "! git clone https://github.com/EscVM/OIDv4_ToolKit.git\n",
        "! cd OIDv4_ToolKit && pip install -r requirements.txt"
      ]
    },
    {
      "cell_type": "code",
      "execution_count": 8,
      "metadata": {
        "colab": {
          "base_uri": "https://localhost:8080/"
        },
        "id": "dLrWpAPW6mJi",
        "outputId": "deba6aa0-3194-4f77-ba55-493af4b0b26c"
      },
      "outputs": [
        {
          "output_type": "stream",
          "name": "stdout",
          "text": [
            "usage: main.py\n",
            "       [-h]\n",
            "       [--Dataset /path/to/OID/csv/]\n",
            "       [-y]\n",
            "       [--classes list of classes [list of classes ...]]\n",
            "       [--type_csv 'train' or 'validation' or 'test' or 'all']\n",
            "       [--sub Subset of human verified images or machine generated (h or m)]\n",
            "       [--image_IsOccluded 1 or 0]\n",
            "       [--image_IsTruncated 1 or 0]\n",
            "       [--image_IsGroupOf 1 or 0]\n",
            "       [--image_IsDepiction 1 or 0]\n",
            "       [--image_IsInside 1 or 0]\n",
            "       [--multiclasses 0 (default) or 1]\n",
            "       [--n_threads [default 20]]\n",
            "       [--noLabels]\n",
            "       [--limit integer number]\n",
            "       <command>\n",
            "       'downloader',\n",
            "       'visualizer'\n",
            "       or\n",
            "       'ill_downloader'.\n",
            "\n",
            "Open Image\n",
            "Dataset\n",
            "Downloader\n",
            "\n",
            "positional arguments:\n",
            "  <command> 'downloader', 'visualizer' or 'ill_downloader'.\n",
            "    'downloader\n",
            "    ', 'visuali\n",
            "    zer' or 'il\n",
            "    l_downloade\n",
            "    r'.\n",
            "\n",
            "options:\n",
            "  -h, --help\n",
            "    show this\n",
            "    help\n",
            "    message and\n",
            "    exit\n",
            "  --Dataset /path/to/OID/csv/\n",
            "    Directory\n",
            "    of the OID\n",
            "    dataset\n",
            "    folder\n",
            "  -y, --yes\n",
            "    ans Yes to\n",
            "    possible\n",
            "    download of\n",
            "    missing\n",
            "    files\n",
            "  --classes list of classes [list of classes ...]\n",
            "    Sequence of\n",
            "    'strings'\n",
            "    of the\n",
            "    wanted\n",
            "    classes\n",
            "  --type_csv 'train' or 'validation' or 'test' or 'all'\n",
            "    From what\n",
            "    csv search\n",
            "    the images\n",
            "  --sub Subset of human verified images or machine generated (h or m)\n",
            "    Download\n",
            "    from the\n",
            "    human\n",
            "    verified\n",
            "    dataset or\n",
            "    from the\n",
            "    machine\n",
            "    generated\n",
            "    one.\n",
            "  --image_IsOccluded 1 or 0\n",
            "    Optional ch\n",
            "    aracteristi\n",
            "    c of the\n",
            "    images.\n",
            "    Indicates\n",
            "    that the\n",
            "    object is\n",
            "    occluded by\n",
            "    another\n",
            "    object in\n",
            "    the image.\n",
            "  --image_IsTruncated 1 or 0\n",
            "    Optional ch\n",
            "    aracteristi\n",
            "    c of the\n",
            "    images.\n",
            "    Indicates\n",
            "    that the\n",
            "    object\n",
            "    extends\n",
            "    beyond the\n",
            "    boundary of\n",
            "    the image.\n",
            "  --image_IsGroupOf 1 or 0\n",
            "    Optional ch\n",
            "    aracteristi\n",
            "    c of the\n",
            "    images.\n",
            "    Indicates\n",
            "    that the\n",
            "    box spans a\n",
            "    group of\n",
            "    objects\n",
            "    (min 5).\n",
            "  --image_IsDepiction 1 or 0\n",
            "    Optional ch\n",
            "    aracteristi\n",
            "    c of the\n",
            "    images.\n",
            "    Indicates\n",
            "    that the\n",
            "    object is a\n",
            "    depiction.\n",
            "  --image_IsInside 1 or 0\n",
            "    Optional ch\n",
            "    aracteristi\n",
            "    c of the\n",
            "    images.\n",
            "    Indicates a\n",
            "    picture\n",
            "    taken from\n",
            "    the inside\n",
            "    of the\n",
            "    object.\n",
            "  --multiclasses 0 (default) or 1\n",
            "    Download\n",
            "    different\n",
            "    classes\n",
            "    separately\n",
            "    (0) or\n",
            "    together\n",
            "    (1)\n",
            "  --n_threads [default 20]\n",
            "    Num of the\n",
            "    threads to\n",
            "    use\n",
            "  --noLabels\n",
            "    No labels\n",
            "    creations\n",
            "  --limit integer number\n",
            "    Optional\n",
            "    limit on\n",
            "    number of\n",
            "    images to\n",
            "    download\n"
          ]
        }
      ],
      "source": [
        "! cd OIDv4_ToolKit && python main.py -h"
      ]
    },
    {
      "cell_type": "markdown",
      "metadata": {
        "id": "S5cUaaLl9jBi"
      },
      "source": [
        "# Data_set dan malumotlarni yuklab olish "
      ]
    },
    {
      "cell_type": "code",
      "execution_count": null,
      "metadata": {
        "id": "ovG26r4q7An_",
        "colab": {
          "base_uri": "https://localhost:8080/"
        },
        "outputId": "da4dfcd2-34c2-4f10-9b31-8336d12baf8d"
      },
      "outputs": [
        {
          "output_type": "stream",
          "name": "stdout",
          "text": [
            "\u001b[92m\n",
            "\t\t   ___   _____  ______            _    _    \n",
            "\t\t .'   `.|_   _||_   _ `.         | |  | |   \n",
            "\t\t/  .-.  \\ | |    | | `. \\ _   __ | |__| |_  \n",
            "\t\t| |   | | | |    | |  | |[ \\ [  ]|____   _| \n",
            "\t\t\\  `-'  /_| |_  _| |_.' / \\ \\/ /     _| |_  \n",
            "\t\t `.___.'|_____||______.'   \\__/     |_____|\n",
            "\t\u001b[0m\n",
            "\u001b[92m\n",
            "             _____                    _                 _             \n",
            "            (____ \\                  | |               | |            \n",
            "             _   \\ \\ ___  _ _ _ ____ | | ___   ____  _ | | ____  ____ \n",
            "            | |   | / _ \\| | | |  _ \\| |/ _ \\ / _  |/ || |/ _  )/ ___)\n",
            "            | |__/ / |_| | | | | | | | | |_| ( ( | ( (_| ( (/ /| |    \n",
            "            |_____/ \\___/ \\____|_| |_|_|\\___/ \\_||_|\\____|\\____)_|    \n",
            "                                                          \n",
            "        \u001b[0m\n",
            "    [INFO] | Downloading Car.\u001b[0m\n",
            "\u001b[91m   [ERROR] | Missing the class-descriptions-boxable.csv file.\u001b[0m\n",
            "\u001b[94m[DOWNLOAD] | Do you want to download the missing file? [Y/n] \u001b[0m"
          ]
        }
      ],
      "source": [
        "! cd OIDv4_ToolKit && python main.py downloader --Dataset /content --classes Car  Airplane Boat --type_csv train --limit 200 "
      ]
    },
    {
      "cell_type": "markdown",
      "metadata": {
        "id": "Y2DXnnrvCo7_"
      },
      "source": [
        "\n",
        "Model "
      ]
    },
    {
      "cell_type": "code",
      "execution_count": null,
      "metadata": {
        "id": "QzEAzENa9Tzk"
      },
      "outputs": [],
      "source": [
        "from fastai.vision.all import *\n",
        "from ipywidgets import widgets\n",
        "\n",
        "# path \n",
        "path=Path('train')\n",
        "# fls=get_image_files(path)\n",
        "# faild=verify_images(path)\n",
        "\n",
        "# Datablock yaratamiz\n",
        "transports=DataBlock(\n",
        "    blocks=(ImageBlock, CategoryBlock),\n",
        "    get_items=get_image_files,\n",
        "    splitter=RandomSplitter(valid_pct=0.2,seed=42),\n",
        "    get_y=parent_label,\n",
        "    item_tfms=Resize(224)\n",
        ")\n",
        "# Dataloader yaratamiz\n",
        "dls=transports.dataloaders(path)\n",
        "# datasetni teshkirish\n",
        "# dls.train.show_batch(max_n=32,nrows=4) # Bu faqat rasmlarni korish uchun edi\n",
        "\n",
        "# Oqitish (train)\n",
        "learn=cnn_learner(dls,resnet34,metrics=accuracy)\n",
        "learn.fine_tune(4)"
      ]
    },
    {
      "cell_type": "code",
      "execution_count": null,
      "metadata": {
        "id": "OAcVKjA3FPLd"
      },
      "outputs": [],
      "source": [
        "#  Teshkirish Confusion_matrix\n",
        "interp=ClassificationInterpretation.from_learner(learn)\n",
        "interp.plot_confusion_matrix()"
      ]
    },
    {
      "cell_type": "code",
      "execution_count": null,
      "metadata": {
        "id": "nuKj4Tc1JWgZ"
      },
      "outputs": [],
      "source": [
        "interp.plot_top_losses(5,nrows=1)"
      ]
    },
    {
      "cell_type": "markdown",
      "source": [
        "# Modelni teshkirib koramiz"
      ],
      "metadata": {
        "id": "35qLSgP1fNCJ"
      }
    },
    {
      "cell_type": "code",
      "source": [
        "upload=widgets.FileUpload()\n",
        "upload"
      ],
      "metadata": {
        "id": "u0Ojl4EsfRq9"
      },
      "execution_count": null,
      "outputs": []
    },
    {
      "cell_type": "code",
      "source": [
        "img=PILImage.create(upload.data[-1])\n",
        "pred,pred_id,probs=learn.predict(img)\n",
        "print(f'Bashorat:{pred}')\n",
        "print(f'Ehtimollik:{probs[pred_id]}')\n",
        "img"
      ],
      "metadata": {
        "id": "UXpqaHjpfqpc"
      },
      "execution_count": null,
      "outputs": []
    },
    {
      "cell_type": "markdown",
      "source": [
        "# O'qitilgan modelni saqlab olamiz"
      ],
      "metadata": {
        "id": "kc042cPoVwxJ"
      }
    },
    {
      "cell_type": "code",
      "source": [
        "learn.export('transport_model.pkl')"
      ],
      "metadata": {
        "id": "SBuJx11LV39G"
      },
      "execution_count": null,
      "outputs": []
    },
    {
      "cell_type": "markdown",
      "source": [
        "# Modelimizni yuklab olib tekshirib koramiz"
      ],
      "metadata": {
        "id": "_6P-c-m_dSkd"
      }
    },
    {
      "cell_type": "code",
      "source": [
        "model=load_learner('/content/transport_model.pkl')"
      ],
      "metadata": {
        "id": "sh9LmWaldXlr"
      },
      "execution_count": null,
      "outputs": []
    },
    {
      "cell_type": "code",
      "source": [
        "model.predict(img)"
      ],
      "metadata": {
        "id": "o1wvikWadg9Q"
      },
      "execution_count": null,
      "outputs": []
    },
    {
      "cell_type": "markdown",
      "source": [
        "# Modeldan mahsulotgacha \n",
        "\n",
        "\n",
        "# Deploy qilish"
      ],
      "metadata": {
        "id": "6Xr9kxdwTkEj"
      }
    },
    {
      "cell_type": "code",
      "source": [],
      "metadata": {
        "id": "Hh0noTyjTuTk"
      },
      "execution_count": null,
      "outputs": []
    }
  ],
  "metadata": {
    "colab": {
      "provenance": [],
      "gpuType": "T4",
      "mount_file_id": "1wKOCvTS3GvsSHZzieH5ZVOeTEaTnP9AJ",
      "authorship_tag": "ABX9TyN5hKsDZBZaJwqrXX2iW9xv",
      "include_colab_link": true
    },
    "gpuClass": "standard",
    "kernelspec": {
      "display_name": "Python 3",
      "name": "python3"
    },
    "language_info": {
      "name": "python"
    },
    "accelerator": "GPU"
  },
  "nbformat": 4,
  "nbformat_minor": 0
}