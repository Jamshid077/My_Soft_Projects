{
  "nbformat": 4,
  "nbformat_minor": 0,
  "metadata": {
    "colab": {
      "private_outputs": true,
      "provenance": []
    },
    "kernelspec": {
      "name": "python3",
      "display_name": "Python 3"
    },
    "language_info": {
      "name": "python"
    },
    "gpuClass": "standard"
  },
  "cells": [
    {
      "cell_type": "code",
      "execution_count": null,
      "metadata": {
        "id": "FQOraKvAYxcY"
      },
      "outputs": [],
      "source": [
        "import pandas as pd \n",
        "import numpy as np \n"
      ]
    },
    {
      "cell_type": "code",
      "source": [
        "df=pd.read_csv('/content/dust_deposition_data.csv')\n",
        "df"
      ],
      "metadata": {
        "id": "DKhrZ5pmY9ZG"
      },
      "execution_count": null,
      "outputs": []
    },
    {
      "cell_type": "code",
      "source": [
        "df.isna()"
      ],
      "metadata": {
        "id": "qxakImlKZS0n"
      },
      "execution_count": null,
      "outputs": []
    },
    {
      "cell_type": "code",
      "source": [
        "df.isnull()"
      ],
      "metadata": {
        "id": "EI2Jyv_nZcLE"
      },
      "execution_count": null,
      "outputs": []
    },
    {
      "cell_type": "code",
      "source": [
        "df.info()"
      ],
      "metadata": {
        "id": "JNMuQbJdaI5G"
      },
      "execution_count": null,
      "outputs": []
    },
    {
      "cell_type": "code",
      "source": [
        "df.describe()"
      ],
      "metadata": {
        "id": "sx4OfUmfg9pf"
      },
      "execution_count": null,
      "outputs": []
    },
    {
      "cell_type": "markdown",
      "source": [
        "# Vizualizatsiya"
      ],
      "metadata": {
        "id": "3PFZLdwIy-Iw"
      }
    },
    {
      "cell_type": "code",
      "source": [
        "import matplotlib.pyplot as plt\n",
        "import seaborn as sns\n",
        "%matplotlib inline \n",
        "sns.pairplot(df[['Atmospheric_pressure','Wind_velocity','Humidity','Temperature','Dust_deposition']])\n",
        "plt.show()"
      ],
      "metadata": {
        "id": "XhAj6plMy9me"
      },
      "execution_count": null,
      "outputs": []
    },
    {
      "cell_type": "markdown",
      "source": [
        "# ML model "
      ],
      "metadata": {
        "id": "QPZqcwzYvhek"
      }
    },
    {
      "cell_type": "code",
      "source": [
        "from sklearn.neighbors import KNeighborsRegressor\n",
        "#from sklearn.naive_bayes import GaussianNB\n",
        "from sklearn.ensemble import RandomForestRegressor\n",
        "from sklearn.linear_model import LinearRegression,Lasso,Ridge,ElasticNet\n",
        "from sklearn.linear_model import LassoCV ,RidgeCV , ElasticNetCV\n",
        "from sklearn.tree import DecisionTreeRegressor\n",
        "from sklearn.ensemble import GradientBoostingRegressor\n",
        "from sklearn.metrics import *\n",
        "from sklearn.model_selection import cross_val_score"
      ],
      "metadata": {
        "id": "ani8wOCJOSt8"
      },
      "execution_count": null,
      "outputs": []
    },
    {
      "cell_type": "code",
      "source": [
        "# from sklearn  import linear_model\n",
        "# MLR_model=linear_model.LinearRegression()\n",
        "# x_train=np.asanyarray(train_set[['Atmospheric_pressure','Temperature']])\n",
        "# y_train=np.asanyarray(train_set[['Dust_deposition']])\n",
        "# MLR_model.fit(x_train,y_train)\n",
        "# print('Coefficients:',MLR_model.coef_)\n",
        "# print('theta0:',MLR_model.intercept_)\n",
        "\n",
        "# Demak bundan korinib turibdiki bizga bu data setimizda Atmosferaning bosimi kattam rol oynar ekan \n",
        "# Eslatma: Bu faqat MLR  va LR uchun"
      ],
      "metadata": {
        "id": "VWk_kYP_vg25"
      },
      "execution_count": null,
      "outputs": []
    },
    {
      "cell_type": "code",
      "source": [
        "x=df.drop(['Dust_deposition'],axis=1)\n",
        "y=df['Dust_deposition']"
      ],
      "metadata": {
        "id": "bhHHWScvPCHx"
      },
      "execution_count": null,
      "outputs": []
    },
    {
      "cell_type": "code",
      "source": [
        "from sklearn.preprocessing import StandardScaler\n",
        "st=StandardScaler()\n",
        "x_scalled=st.fit_transform(x)"
      ],
      "metadata": {
        "id": "UdBQREDbPs4J"
      },
      "execution_count": null,
      "outputs": []
    },
    {
      "cell_type": "markdown",
      "source": [
        "# Train and Test split\n",
        "\n",
        "\n"
      ],
      "metadata": {
        "id": "F6tX-mvluczN"
      }
    },
    {
      "cell_type": "code",
      "source": [
        "from sklearn.model_selection import  train_test_split\n",
        "x_train,x_test,y_train,y_test=train_test_split(x_scalled,y,test_size=0.2,random_state=42)"
      ],
      "metadata": {
        "id": "nhiF7prGO0ip"
      },
      "execution_count": null,
      "outputs": []
    },
    {
      "cell_type": "markdown",
      "source": [
        "# Model Building "
      ],
      "metadata": {
        "id": "ZvGfVrbySOW4"
      }
    },
    {
      "cell_type": "code",
      "source": [
        "def model(y_test,y_train,x_test,x_train,model):\n",
        "    \n",
        "    model1 = model()\n",
        "    model1.fit(x_train,y_train)\n",
        "    y_pred = model1.predict(x_test)\n",
        "    r2_score(y_test,y_pred)\n",
        "    print('-----------------')\n",
        "    print(model)\n",
        "    print('-----------------')\n",
        "    print(f'MSE: {mean_squared_error(y_test,y_pred)}')\n",
        "    print(f'MAE: {mean_absolute_error(y_test,y_pred)}')\n",
        "    print(f'R2 : {round(r2_score(y_test,y_pred)*100,2)} %')"
      ],
      "metadata": {
        "id": "NJlyQwraOodU"
      },
      "execution_count": null,
      "outputs": []
    },
    {
      "cell_type": "code",
      "source": [
        "x = [model(y_test,y_train,x_test,x_train,i) for i in [LinearRegression,Lasso,Ridge,ElasticNet,RandomForestRegressor,DecisionTreeRegressor,KNeighborsRegressor,GradientBoostingRegressor]]\n",
        "x"
      ],
      "metadata": {
        "id": "SO0TejDaRxYP"
      },
      "execution_count": null,
      "outputs": []
    },
    {
      "cell_type": "code",
      "source": [
        "# x_train=np.asanyarray(test_set[['Atmospheric_pressure','Temperature']])"
      ],
      "metadata": {
        "id": "GA2im00u0JX-"
      },
      "execution_count": null,
      "outputs": []
    },
    {
      "cell_type": "markdown",
      "source": [
        "# Next step"
      ],
      "metadata": {
        "id": "okyDr6733u8S"
      }
    },
    {
      "cell_type": "code",
      "source": [
        "# corrr_matrix=df.corr().abs()\n",
        "# corrr_matrix.style.background_gradient(cmap='coolwarm')"
      ],
      "metadata": {
        "id": "_f393mh_4RUz"
      },
      "execution_count": null,
      "outputs": []
    },
    {
      "cell_type": "code",
      "source": [
        "# df.corrwith(df['Dust_deposition']).abs().sort_index(ascending=False)"
      ],
      "metadata": {
        "id": "W8484VRK411q"
      },
      "execution_count": null,
      "outputs": []
    },
    {
      "cell_type": "code",
      "source": [
        "# df['Dust_deposition'].astype(float)"
      ],
      "metadata": {
        "id": "zvwW9Q4udu_A"
      },
      "execution_count": null,
      "outputs": []
    },
    {
      "cell_type": "markdown",
      "source": [
        "# KNeighbors Classifer"
      ],
      "metadata": {
        "id": "zyBIk9qrbSI9"
      }
    }
  ]
}